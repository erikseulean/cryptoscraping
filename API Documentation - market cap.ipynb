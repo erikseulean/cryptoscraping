{
 "cells": [
  {
   "cell_type": "code",
   "execution_count": 1,
   "metadata": {
    "collapsed": true
   },
   "outputs": [],
   "source": [
    "from IPython.core.interactiveshell import InteractiveShell\n",
    "InteractiveShell.ast_node_interactivity = \"all\""
   ]
  },
  {
   "cell_type": "code",
   "execution_count": 2,
   "metadata": {
    "collapsed": false
   },
   "outputs": [],
   "source": [
    "from datetime import datetime as Date\n",
    "from crypto.libs.marketcap import MarketCap\n",
    "from crypto.libs.price import Price\n",
    "from crypto.libs.coins import Coins\n",
    "from crypto.libs.scraping.refresh import run as MarketCapInit\n",
    "from crypto.libs import dateutils"
   ]
  },
  {
   "cell_type": "code",
   "execution_count": 4,
   "metadata": {
    "collapsed": false
   },
   "outputs": [],
   "source": [
    "#MarketCapInit()\n",
    "start_date = Date(2017, 10, 17)\n",
    "end_date = Date(2017, 11, 17)"
   ]
  },
  {
   "cell_type": "markdown",
   "metadata": {},
   "source": [
    "### Getting marketcap "
   ]
  },
  {
   "cell_type": "code",
   "execution_count": null,
   "metadata": {
    "collapsed": false
   },
   "outputs": [],
   "source": [
    "marketcap = MarketCap()"
   ]
  },
  {
   "cell_type": "code",
   "execution_count": null,
   "metadata": {
    "collapsed": false
   },
   "outputs": [],
   "source": [
    "marketcap.top(3)\n",
    "marketcap.current(\"bitcoin\", \"usd\")\n",
    "marketcap.current(\"ethereum\", \"usd\")\n",
    "marketcap.historical(\"BTC\", \"usd\", start_date) \n",
    "marketcap.top(3, start_date)"
   ]
  },
  {
   "cell_type": "code",
   "execution_count": null,
   "metadata": {
    "collapsed": false
   },
   "outputs": [],
   "source": [
    "marketcap.total()\n",
    "marketcap.total(start_date)\n",
    "marketcap.total(start_date, end_date)\n",
    "# marketcap.share(\"bitcoin\") # today never works, it's not scraped\n",
    "marketcap.share(\"BTC\", start_date)\n",
    "marketcap.share(\"BTC\", start_date, end_date)"
   ]
  },
  {
   "cell_type": "code",
   "execution_count": null,
   "metadata": {
    "collapsed": false
   },
   "outputs": [],
   "source": [
    "# marketcap.rank(\"BTC\") # today never works, it's not scraped\n",
    "marketcap.rank(\"BTC\", start_date)\n",
    "marketcap.rank(\"BTC\", start_date, end_date)\n",
    "marketcap.rank(\"ETH\", start_date)"
   ]
  },
  {
   "cell_type": "code",
   "execution_count": null,
   "metadata": {
    "collapsed": false
   },
   "outputs": [],
   "source": [
    "marketcap.smaller(1000, Date(2017, 11, 22))\n",
    "marketcap.bigger(10000000000, Date(2017, 11, 22))\n",
    "marketcap.between(1000, 2000, Date(2017, 11, 22))\n",
    "\n",
    "marketcap.between(1, 2000)\n",
    "marketcap.between(1, 2000, Date(2017, 10, 1))\n",
    "marketcap.smaller(2000, Date(2017, 10, 1))"
   ]
  },
  {
   "cell_type": "code",
   "execution_count": null,
   "metadata": {
    "collapsed": false
   },
   "outputs": [],
   "source": [
    "# Gives historically market cap, market cap rank, price, supply\n",
    "marketcap.historical(\"BTC\", \"usd\", start_date) \n",
    "marketcap.historical(\"ETH\", \"usd\", start_date) \n",
    "\n",
    "marketcap.top(5, Date(2017, 10, 11))\n",
    "marketcap.range(0, 10, Date(2018, 1, 5))\n",
    "marketcap.range(60, 65, Date(2017, 10, 5))"
   ]
  },
  {
   "cell_type": "code",
   "execution_count": null,
   "metadata": {
    "collapsed": false
   },
   "outputs": [],
   "source": [
    "dd"
   ]
  }
 ],
 "metadata": {
  "anaconda-cloud": {},
  "kernelspec": {
   "display_name": "Python [Root]",
   "language": "python",
   "name": "Python [Root]"
  },
  "language_info": {
   "codemirror_mode": {
    "name": "ipython",
    "version": 3
   },
   "file_extension": ".py",
   "mimetype": "text/x-python",
   "name": "python",
   "nbconvert_exporter": "python",
   "pygments_lexer": "ipython3",
   "version": "3.5.2"
  }
 },
 "nbformat": 4,
 "nbformat_minor": 0
}
