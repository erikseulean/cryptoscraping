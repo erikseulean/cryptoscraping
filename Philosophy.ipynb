{
 "cells": [
  {
   "cell_type": "code",
   "execution_count": 2,
   "metadata": {
    "collapsed": false
   },
   "outputs": [],
   "source": [
    "import analytics"
   ]
  },
  {
   "cell_type": "code",
   "execution_count": 69,
   "metadata": {
    "collapsed": true
   },
   "outputs": [],
   "source": [
    "import pandas as pd\n",
    "from IPython.core.interactiveshell import InteractiveShell\n",
    "InteractiveShell.ast_node_interactivity = \"all\"\n",
    "import matplotlib.pyplot as plt\n",
    "import matplotlib.dates as mdates"
   ]
  },
  {
   "cell_type": "code",
   "execution_count": 3,
   "metadata": {
    "collapsed": true
   },
   "outputs": [],
   "source": [
    "top100 = analytics.cleaned_dataset()"
   ]
  },
  {
   "cell_type": "code",
   "execution_count": 1,
   "metadata": {
    "collapsed": false
   },
   "outputs": [
    {
     "ename": "NameError",
     "evalue": "name 'top100' is not defined",
     "output_type": "error",
     "traceback": [
      "\u001b[0;31m---------------------------------------------------------------------------\u001b[0m",
      "\u001b[0;31mNameError\u001b[0m                                 Traceback (most recent call last)",
      "\u001b[0;32m<ipython-input-1-921e5a45e5cf>\u001b[0m in \u001b[0;36m<module>\u001b[0;34m()\u001b[0m\n\u001b[0;32m----> 1\u001b[0;31m \u001b[0mtop100coins\u001b[0m \u001b[0;34m=\u001b[0m \u001b[0mtop100\u001b[0m\u001b[0;34m[\u001b[0m\u001b[0mtop100\u001b[0m\u001b[0;34m[\u001b[0m\u001b[0;34m'Date'\u001b[0m\u001b[0;34m]\u001b[0m \u001b[0;34m==\u001b[0m \u001b[0;34m'2017-12-18'\u001b[0m\u001b[0;34m]\u001b[0m\u001b[0;34m.\u001b[0m\u001b[0msort_values\u001b[0m\u001b[0;34m(\u001b[0m\u001b[0;34m'Market-Cap'\u001b[0m\u001b[0;34m,\u001b[0m \u001b[0mascending\u001b[0m\u001b[0;34m=\u001b[0m\u001b[0;32mFalse\u001b[0m\u001b[0;34m)\u001b[0m\u001b[0;34m\u001b[0m\u001b[0m\n\u001b[0m\u001b[1;32m      2\u001b[0m \u001b[0mtop100coins\u001b[0m \u001b[0;34m=\u001b[0m \u001b[0mtop100coins\u001b[0m\u001b[0;34m[\u001b[0m\u001b[0;34m[\u001b[0m\u001b[0;34m'Coin'\u001b[0m\u001b[0;34m,\u001b[0m \u001b[0;34m'Market-Cap'\u001b[0m\u001b[0;34m]\u001b[0m\u001b[0;34m]\u001b[0m\u001b[0;34m\u001b[0m\u001b[0m\n\u001b[1;32m      3\u001b[0m \u001b[0mtop100coins\u001b[0m \u001b[0;34m=\u001b[0m \u001b[0mpd\u001b[0m\u001b[0;34m.\u001b[0m\u001b[0mDataFrame\u001b[0m\u001b[0;34m(\u001b[0m\u001b[0mtop100coins\u001b[0m\u001b[0;34m.\u001b[0m\u001b[0mvalues\u001b[0m\u001b[0;34m,\u001b[0m \u001b[0mcolumns\u001b[0m\u001b[0;34m=\u001b[0m\u001b[0mtop100coins\u001b[0m\u001b[0;34m.\u001b[0m\u001b[0mcolumns\u001b[0m\u001b[0;34m)\u001b[0m\u001b[0;34m\u001b[0m\u001b[0m\n\u001b[1;32m      4\u001b[0m \u001b[0mtop100coins\u001b[0m\u001b[0;34m.\u001b[0m\u001b[0mindex\u001b[0m \u001b[0;34m+=\u001b[0m \u001b[0;36m1\u001b[0m\u001b[0;34m\u001b[0m\u001b[0m\n\u001b[1;32m      5\u001b[0m \u001b[0mpd\u001b[0m\u001b[0;34m.\u001b[0m\u001b[0mset_option\u001b[0m\u001b[0;34m(\u001b[0m\u001b[0;34m'display.float_format'\u001b[0m\u001b[0;34m,\u001b[0m \u001b[0;32mlambda\u001b[0m \u001b[0mx\u001b[0m\u001b[0;34m:\u001b[0m \u001b[0;34m'%.3f'\u001b[0m \u001b[0;34m%\u001b[0m \u001b[0mx\u001b[0m\u001b[0;34m)\u001b[0m\u001b[0;34m\u001b[0m\u001b[0m\n",
      "\u001b[0;31mNameError\u001b[0m: name 'top100' is not defined"
     ]
    }
   ],
   "source": [
    "top100coins = top100[top100['Date'] == '2017-12-18'].sort_values('Market-Cap', ascending=False)\n",
    "top100coins = top100coins[['Coin', 'Market-Cap']]\n",
    "top100coins = pd.DataFrame(top100coins.values, columns=top100coins.columns)\n",
    "top100coins.index += 1 \n",
    "pd.set_option('display.float_format', lambda x: '%.3f' % x)\n",
    "top100coins.head(50)\n",
    "\n",
    "totalMarketCap = top100coins[\"Market-Cap\"].sum()\n",
    "#totalMarketCap"
   ]
  },
  {
   "cell_type": "code",
   "execution_count": 26,
   "metadata": {
    "collapsed": true
   },
   "outputs": [],
   "source": [
    "# Process:\n",
    "\n",
    "# I. Analyse the entire market to come up with a list of tickers\n",
    "#   1. Search for seasonality (monthly and weekly and annually)\n",
    "#      - look at Christmas spike and January deflation\n",
    "#   2. Look at the correlation matrix\n",
    "#      - see which go together and when\n",
    "#      - look for the lag behind different coins, i.e. is eth correlated with btc + 1day?\n",
    "# \n",
    "#   3. Group by sectors \n",
    "#   5. Group by market cap\n",
    "#   6. Calculate volatilty \n",
    "#   7. Plot the volatility profile of the market\n",
    "#   8. Plot the volatility profile different coins\n",
    "#   9. How many coins % of total have EVER doubled their price = pump\n",
    "#  10. Look at new comers in top 100!\n",
    "#  11. See price increase of poloniex exchange coins from beginning of listing\n",
    "#  12. Pace of new account openings\n",
    "\n",
    "# II. Analyse a portfolio of coins coming up from 1.\n",
    "#   1. Backtesting monthly, weekly, daily\n",
    "#   2. Look for correlation matrix and volatilty of the portfolio\n",
    "#   3. \n",
    "\n",
    "# III. Individual coin analysis\n",
    "#   1. look at full history of price (search for pumps and dumps)\n",
    "#       - vs USD and vs BTC\n",
    "#   2. look at recent history of price (search for pumps and dumps)\n",
    "#       - vs USD and vs BTC\n",
    "#   3. look at market cap (should be highly correlated with price)\n",
    "#       - check for growth as % of entire market \n",
    "#       - check if you make money vs the market not vs the dollar\n",
    "#       - otherwise you have opportunity cost\n",
    "#       - need to have benchmark. \n",
    "#   4. look how it grows depending on exchange adoption\n",
    "#   5. profile diff coins based on google trends, reddit, twitter\n",
    "#   6. search for pumps as % of initial price so the pump is yet to come\n",
    "#   7. find the average life of an altcoin (drop below issue price = death)\n",
    "#   8. When it was adopted by exchange analysis\n",
    "\n",
    "# IV. Investing strategy\n",
    "#   1. Stop loss order\n",
    "#   2. Cash out \n",
    "#   3. \n",
    "\n"
   ]
  },
  {
   "cell_type": "code",
   "execution_count": 40,
   "metadata": {
    "collapsed": false
   },
   "outputs": [
    {
     "data": {
      "text/plain": [
       "'bitcoin'"
      ]
     },
     "execution_count": 40,
     "metadata": {},
     "output_type": "execute_result"
    },
    {
     "data": {
      "text/plain": [
       "<matplotlib.axes._subplots.AxesSubplot at 0x114db4b38>"
      ]
     },
     "execution_count": 40,
     "metadata": {},
     "output_type": "execute_result"
    }
   ],
   "source": [
    "coin = top100coins.values[0][0]\n",
    "coin\n",
    "coindata = analytics.get_historical_data(top100, coin, '2017-01-18', '2017-12-18')\n"
   ]
  },
  {
   "cell_type": "code",
   "execution_count": 77,
   "metadata": {
    "collapsed": false
   },
   "outputs": [
    {
     "data": {
      "text/plain": [
       "<matplotlib.text.Text at 0x12005dda0>"
      ]
     },
     "execution_count": 77,
     "metadata": {},
     "output_type": "execute_result"
    },
    {
     "data": {
      "text/plain": [
       "<matplotlib.text.Text at 0x11ec9b7f0>"
      ]
     },
     "execution_count": 77,
     "metadata": {},
     "output_type": "execute_result"
    },
    {
     "data": {
      "text/plain": [
       "[<matplotlib.text.Text at 0x11f4c1978>]"
      ]
     },
     "execution_count": 77,
     "metadata": {},
     "output_type": "execute_result"
    },
    {
     "data": {
      "image/png": "[encoded data removed]",
      "text/plain": [
       "<matplotlib.figure.Figure at 0x12026cd30>"
      ]
     },
     "metadata": {},
     "output_type": "display_data"
    }
   ],
   "source": [
    "%matplotlib inline\n",
    "plt.style.use('ggplot')\n",
    "ax = coindata[['Close']].plot(kind='line', title =\"Price\",figsize=(15,6),legend=True, fontsize=12)\n",
    "ax.set_xlabel(\"Date\",fontsize=12)\n",
    "ax.set_ylabel(\"Price\",fontsize=12)\n",
    "myFmt = mdates.DateFormatter('%d')\n",
    "ax.xaxis.set_major_formatter(myFmt)\n",
    "ax.set_xticklabels(coindata[[\"Date\"]], rotation=-45)"
   ]
  },
  {
   "cell_type": "code",
   "execution_count": 80,
   "metadata": {
    "collapsed": true
   },
   "outputs": [],
   "source": [
    "import datetime"
   ]
  },
  {
   "cell_type": "code",
   "execution_count": 129,
   "metadata": {
    "collapsed": false
   },
   "outputs": [],
   "source": [
    "d1 = coindata[[\"Date\"]].values[0][0]\n",
    "d1 = d1.astype('M8[D]')"
   ]
  },
  {
   "cell_type": "code",
   "execution_count": 127,
   "metadata": {
    "collapsed": false
   },
   "outputs": [
    {
     "data": {
      "text/html": [
       "<div>\n",
       "<table border=\"1\" class=\"dataframe\">\n",
       "  <thead>\n",
       "    <tr style=\"text-align: right;\">\n",
       "      <th></th>\n",
       "      <th>Coin</th>\n",
       "      <th>Close</th>\n",
       "      <th>Change</th>\n",
       "    </tr>\n",
       "  </thead>\n",
       "  <tbody>\n",
       "    <tr>\n",
       "      <th>0</th>\n",
       "      <td>bitcoin</td>\n",
       "      <td>19114.200</td>\n",
       "      <td>19114.200</td>\n",
       "    </tr>\n",
       "    <tr>\n",
       "      <th>1</th>\n",
       "      <td>ethereum</td>\n",
       "      <td>794.640</td>\n",
       "      <td>794.640</td>\n",
       "    </tr>\n",
       "    <tr>\n",
       "      <th>2</th>\n",
       "      <td>bitcoin-cash</td>\n",
       "      <td>2196.640</td>\n",
       "      <td>2196.640</td>\n",
       "    </tr>\n",
       "    <tr>\n",
       "      <th>3</th>\n",
       "      <td>ripple</td>\n",
       "      <td>0.778</td>\n",
       "      <td>0.778</td>\n",
       "    </tr>\n",
       "    <tr>\n",
       "      <th>4</th>\n",
       "      <td>litecoin</td>\n",
       "      <td>358.340</td>\n",
       "      <td>358.340</td>\n",
       "    </tr>\n",
       "  </tbody>\n",
       "</table>\n",
       "</div>"
      ],
      "text/plain": [
       "           Coin     Close    Change\n",
       "0       bitcoin 19114.200 19114.200\n",
       "1      ethereum   794.640   794.640\n",
       "2  bitcoin-cash  2196.640  2196.640\n",
       "3        ripple     0.778     0.778\n",
       "4      litecoin   358.340   358.340"
      ]
     },
     "execution_count": 127,
     "metadata": {},
     "output_type": "execute_result"
    }
   ],
   "source": [
    "top100coinstday = top100[top100['Date'] == '2017-12-18'].sort_values('Market-Cap', ascending=False)\n",
    "top100coinsyday = top100[top100['Date'] == '2017-12-10'].sort_values('Market-Cap', ascending=False)\n",
    "\n",
    "top100coinstday = top100coinstday[['Coin', 'Close']]\n",
    "top100coinstday = pd.DataFrame(top100coinstday.values, columns=top100coins.columns)\n",
    "\n",
    "top100coinsyday = top100coinsyday[['Coin', 'Close']]\n",
    "top100coinsyday = pd.DataFrame(top100coinsyday.values, columns=top100coins.columns)\n",
    "\n",
    "top100coinschg = pd.DataFrame(top100coinstday[[\"Coin\"]])\n",
    "top100coinschg[\"Change\"] = top100coinstday[\"Close\"] - top100coinstday[\"Close\"]\n",
    "top100coins.head(5)"
   ]
  },
  {
   "cell_type": "code",
   "execution_count": null,
   "metadata": {
    "collapsed": true
   },
   "outputs": [],
   "source": []
  }
 ],
 "metadata": {
  "anaconda-cloud": {},
  "kernelspec": {
   "display_name": "Python [Root]",
   "language": "python",
   "name": "Python [Root]"
  },
  "language_info": {
   "codemirror_mode": {
    "name": "ipython",
    "version": 3
   },
   "file_extension": ".py",
   "mimetype": "text/x-python",
   "name": "python",
   "nbconvert_exporter": "python",
   "pygments_lexer": "ipython3",
   "version": "3.5.2"
  }
 },
 "nbformat": 4,
 "nbformat_minor": 0
}
