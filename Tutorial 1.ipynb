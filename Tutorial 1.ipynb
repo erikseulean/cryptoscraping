{
 "cells": [
  {
   "cell_type": "code",
   "execution_count": 1,
   "metadata": {
    "collapsed": true
   },
   "outputs": [],
   "source": [
    "from IPython.core.interactiveshell import InteractiveShell\n",
    "InteractiveShell.ast_node_interactivity = \"all\""
   ]
  },
  {
   "cell_type": "code",
   "execution_count": 2,
   "metadata": {
    "collapsed": false
   },
   "outputs": [],
   "source": [
    "from datetime import datetime as Date\n",
    "from crypto.libs.marketcap import MarketCap\n",
    "from crypto.libs.price import Price\n",
    "from crypto.libs.scraping.refresh import run as MarketCapInit"
   ]
  },
  {
   "cell_type": "code",
   "execution_count": 3,
   "metadata": {
    "collapsed": false
   },
   "outputs": [],
   "source": [
    "#MarketCapInit()"
   ]
  },
  {
   "cell_type": "markdown",
   "metadata": {},
   "source": [
    "### Getting marketcap "
   ]
  },
  {
   "cell_type": "code",
   "execution_count": 4,
   "metadata": {
    "collapsed": false
   },
   "outputs": [],
   "source": [
    "marketcap = MarketCap()"
   ]
  },
  {
   "cell_type": "code",
   "execution_count": 5,
   "metadata": {
    "collapsed": false
   },
   "outputs": [
    {
     "data": {
      "text/plain": [
       "[(285911557066.0, 'bitcoin'),\n",
       " (120402036967.0, 'ripple'),\n",
       " (99307076133.0, 'ethereum')]"
      ]
     },
     "execution_count": 5,
     "metadata": {},
     "output_type": "execute_result"
    },
    {
     "data": {
      "text/plain": [
       "'285911557066'"
      ]
     },
     "execution_count": 5,
     "metadata": {},
     "output_type": "execute_result"
    },
    {
     "data": {
      "text/plain": [
       "'99307076133.0'"
      ]
     },
     "execution_count": 5,
     "metadata": {},
     "output_type": "execute_result"
    },
    {
     "data": {
      "text/plain": [
       "95469300000.0"
      ]
     },
     "execution_count": 5,
     "metadata": {},
     "output_type": "execute_result"
    },
    {
     "data": {
      "text/plain": [
       "[(95469300000.0, 'bitcoin'),\n",
       " (31727700000.0, 'ethereum'),\n",
       " (9867860000.0, 'ripple')]"
      ]
     },
     "execution_count": 5,
     "metadata": {},
     "output_type": "execute_result"
    }
   ],
   "source": [
    "start_date = Date(2017, 10, 17)\n",
    "end_date = Date(2017, 11, 17)\n",
    "\n",
    "marketcap.top(3)\n",
    "marketcap.current(\"bitcoin\", \"usd\")\n",
    "marketcap.current(\"ethereum\", \"usd\")\n",
    "marketcap.historical(\"bitcoin\", \"usd\", start_date) \n",
    "marketcap.top(3, start_date)"
   ]
  },
  {
   "cell_type": "code",
   "execution_count": 12,
   "metadata": {
    "collapsed": false
   },
   "outputs": [
    {
     "data": {
      "text/plain": [
       "236725000000.0"
      ]
     },
     "execution_count": 12,
     "metadata": {},
     "output_type": "execute_result"
    },
    {
     "data": {
      "text/plain": [
       "[(79578200000.0, 'bitcoin'),\n",
       " (28626300000.0, 'ethereum'),\n",
       " (10061500000.0, 'ripple'),\n",
       " (5341000000.0, 'bitcoin-cash'),\n",
       " (2706060000.0, 'litecoin'),\n",
       " (1892910000.0, 'nem'),\n",
       " (556914000.0, 'cardano'),\n",
       " (313004000.0, 'stellar'),\n",
       " (149682000.0, 'tron')]"
      ]
     },
     "execution_count": 12,
     "metadata": {},
     "output_type": "execute_result"
    }
   ],
   "source": [
    "# Gives historically market cap, market cap rank, price, supply\n",
    "marketcap.historical(\"bitcoin\", \"usd\", start_date) \n",
    "\n",
    "marketcap.top(100, Date(2017, 10, 11))\n",
    "marketcap.range(60, 80, Date(2017, 10, 11))\n",
    "\n",
    "marketcap.smaller(1000000, Date(2017, 11, 22))\n",
    "marketcap.bigger(10000, Date(2016, 11, 11))\n",
    "marketcap.between(1000, 1000)"
   ]
  },
  {
   "cell_type": "markdown",
   "metadata": {},
   "source": [
    "### Getting price\n"
   ]
  },
  {
   "cell_type": "code",
   "execution_count": 7,
   "metadata": {
    "collapsed": false
   },
   "outputs": [],
   "source": [
    "price = Price()"
   ]
  },
  {
   "cell_type": "code",
   "execution_count": 10,
   "metadata": {
    "collapsed": false
   },
   "outputs": [
    {
     "data": {
      "text/plain": [
       "16695.01"
      ]
     },
     "execution_count": 10,
     "metadata": {},
     "output_type": "execute_result"
    },
    {
     "data": {
      "text/plain": [
       "16695.01"
      ]
     },
     "execution_count": 10,
     "metadata": {},
     "output_type": "execute_result"
    },
    {
     "data": {
      "text/html": [
       "<div>\n",
       "<table border=\"1\" class=\"dataframe\">\n",
       "  <thead>\n",
       "    <tr style=\"text-align: right;\">\n",
       "      <th></th>\n",
       "      <th>close</th>\n",
       "    </tr>\n",
       "  </thead>\n",
       "  <tbody>\n",
       "    <tr>\n",
       "      <th>2018-01-05 23:10:00</th>\n",
       "      <td>16920.00</td>\n",
       "    </tr>\n",
       "    <tr>\n",
       "      <th>2018-01-05 23:15:00</th>\n",
       "      <td>16999.00</td>\n",
       "    </tr>\n",
       "    <tr>\n",
       "      <th>2018-01-05 23:20:00</th>\n",
       "      <td>17022.01</td>\n",
       "    </tr>\n",
       "    <tr>\n",
       "      <th>2018-01-05 23:25:00</th>\n",
       "      <td>17089.99</td>\n",
       "    </tr>\n",
       "    <tr>\n",
       "      <th>2018-01-05 23:30:00</th>\n",
       "      <td>17084.00</td>\n",
       "    </tr>\n",
       "    <tr>\n",
       "      <th>2018-01-05 23:35:00</th>\n",
       "      <td>17035.01</td>\n",
       "    </tr>\n",
       "    <tr>\n",
       "      <th>2018-01-05 23:40:00</th>\n",
       "      <td>16801.80</td>\n",
       "    </tr>\n",
       "    <tr>\n",
       "      <th>2018-01-05 23:45:00</th>\n",
       "      <td>16909.01</td>\n",
       "    </tr>\n",
       "    <tr>\n",
       "      <th>2018-01-05 23:50:00</th>\n",
       "      <td>16838.99</td>\n",
       "    </tr>\n",
       "    <tr>\n",
       "      <th>2018-01-05 23:55:00</th>\n",
       "      <td>16928.00</td>\n",
       "    </tr>\n",
       "    <tr>\n",
       "      <th>2018-01-06 00:00:00</th>\n",
       "      <td>16909.15</td>\n",
       "    </tr>\n",
       "  </tbody>\n",
       "</table>\n",
       "</div>"
      ],
      "text/plain": [
       "                        close\n",
       "2018-01-05 23:10:00  16920.00\n",
       "2018-01-05 23:15:00  16999.00\n",
       "2018-01-05 23:20:00  17022.01\n",
       "2018-01-05 23:25:00  17089.99\n",
       "2018-01-05 23:30:00  17084.00\n",
       "2018-01-05 23:35:00  17035.01\n",
       "2018-01-05 23:40:00  16801.80\n",
       "2018-01-05 23:45:00  16909.01\n",
       "2018-01-05 23:50:00  16838.99\n",
       "2018-01-05 23:55:00  16928.00\n",
       "2018-01-06 00:00:00  16909.15"
      ]
     },
     "execution_count": 10,
     "metadata": {},
     "output_type": "execute_result"
    },
    {
     "data": {
      "text/html": [
       "<div>\n",
       "<table border=\"1\" class=\"dataframe\">\n",
       "  <thead>\n",
       "    <tr style=\"text-align: right;\">\n",
       "      <th></th>\n",
       "      <th>close</th>\n",
       "    </tr>\n",
       "  </thead>\n",
       "  <tbody>\n",
       "    <tr>\n",
       "      <th>2017-12-27</th>\n",
       "      <td>15364.93</td>\n",
       "    </tr>\n",
       "    <tr>\n",
       "      <th>2017-12-28</th>\n",
       "      <td>14470.07</td>\n",
       "    </tr>\n",
       "    <tr>\n",
       "      <th>2017-12-29</th>\n",
       "      <td>14340.00</td>\n",
       "    </tr>\n",
       "    <tr>\n",
       "      <th>2017-12-30</th>\n",
       "      <td>12640.00</td>\n",
       "    </tr>\n",
       "    <tr>\n",
       "      <th>2017-12-31</th>\n",
       "      <td>13880.00</td>\n",
       "    </tr>\n",
       "    <tr>\n",
       "      <th>2018-01-01</th>\n",
       "      <td>13443.41</td>\n",
       "    </tr>\n",
       "    <tr>\n",
       "      <th>2018-01-02</th>\n",
       "      <td>14678.94</td>\n",
       "    </tr>\n",
       "    <tr>\n",
       "      <th>2018-01-03</th>\n",
       "      <td>15155.62</td>\n",
       "    </tr>\n",
       "    <tr>\n",
       "      <th>2018-01-04</th>\n",
       "      <td>15143.67</td>\n",
       "    </tr>\n",
       "    <tr>\n",
       "      <th>2018-01-05</th>\n",
       "      <td>16928.00</td>\n",
       "    </tr>\n",
       "    <tr>\n",
       "      <th>2018-01-06</th>\n",
       "      <td>16705.12</td>\n",
       "    </tr>\n",
       "  </tbody>\n",
       "</table>\n",
       "</div>"
      ],
      "text/plain": [
       "               close\n",
       "2017-12-27  15364.93\n",
       "2017-12-28  14470.07\n",
       "2017-12-29  14340.00\n",
       "2017-12-30  12640.00\n",
       "2017-12-31  13880.00\n",
       "2018-01-01  13443.41\n",
       "2018-01-02  14678.94\n",
       "2018-01-03  15155.62\n",
       "2018-01-04  15143.67\n",
       "2018-01-05  16928.00\n",
       "2018-01-06  16705.12"
      ]
     },
     "execution_count": 10,
     "metadata": {},
     "output_type": "execute_result"
    },
    {
     "data": {
      "text/html": [
       "<div>\n",
       "<table border=\"1\" class=\"dataframe\">\n",
       "  <thead>\n",
       "    <tr style=\"text-align: right;\">\n",
       "      <th></th>\n",
       "      <th>close</th>\n",
       "    </tr>\n",
       "  </thead>\n",
       "  <tbody>\n",
       "    <tr>\n",
       "      <th>2017-12-27</th>\n",
       "      <td>0.000027</td>\n",
       "    </tr>\n",
       "    <tr>\n",
       "      <th>2017-12-28</th>\n",
       "      <td>0.000028</td>\n",
       "    </tr>\n",
       "    <tr>\n",
       "      <th>2017-12-29</th>\n",
       "      <td>0.000037</td>\n",
       "    </tr>\n",
       "    <tr>\n",
       "      <th>2017-12-30</th>\n",
       "      <td>0.000052</td>\n",
       "    </tr>\n",
       "    <tr>\n",
       "      <th>2017-12-31</th>\n",
       "      <td>0.000052</td>\n",
       "    </tr>\n",
       "    <tr>\n",
       "      <th>2018-01-01</th>\n",
       "      <td>0.000056</td>\n",
       "    </tr>\n",
       "    <tr>\n",
       "      <th>2018-01-02</th>\n",
       "      <td>0.000053</td>\n",
       "    </tr>\n",
       "    <tr>\n",
       "      <th>2018-01-03</th>\n",
       "      <td>0.000071</td>\n",
       "    </tr>\n",
       "    <tr>\n",
       "      <th>2018-01-04</th>\n",
       "      <td>0.000076</td>\n",
       "    </tr>\n",
       "    <tr>\n",
       "      <th>2018-01-05</th>\n",
       "      <td>0.000057</td>\n",
       "    </tr>\n",
       "    <tr>\n",
       "      <th>2018-01-06</th>\n",
       "      <td>0.000060</td>\n",
       "    </tr>\n",
       "  </tbody>\n",
       "</table>\n",
       "</div>"
      ],
      "text/plain": [
       "               close\n",
       "2017-12-27  0.000027\n",
       "2017-12-28  0.000028\n",
       "2017-12-29  0.000037\n",
       "2017-12-30  0.000052\n",
       "2017-12-31  0.000052\n",
       "2018-01-01  0.000056\n",
       "2018-01-02  0.000053\n",
       "2018-01-03  0.000071\n",
       "2018-01-04  0.000076\n",
       "2018-01-05  0.000057\n",
       "2018-01-06  0.000060"
      ]
     },
     "execution_count": 10,
     "metadata": {},
     "output_type": "execute_result"
    }
   ],
   "source": [
    "price.current(\"BTC\", \"USD\", \"Bitstamp\")\n",
    "price.current(\"BTC\")\n",
    "\n",
    "start_date = Date(2018, 1, 1)\n",
    "end_date = Date(2018, 1, 6)\n",
    "price.historical(\"BTC\", \"USD\", start_date, end_date, \n",
    "                 bar_type = \"m\", bar_size = 5, num_points = 10, \n",
    "                 exchange='Bitstamp')\n",
    "\n",
    "price.historical(\"BTC\", \"USD\", start_date, end_date, \n",
    "                 bar_type = \"d\", bar_size = 1, num_points = 10, \n",
    "                 exchange='Bitstamp')\n",
    "\n",
    "price.historical(\"ADA\", \"BTC\", start_date, end_date, \n",
    "                 num_points = 10, exchange='Binance')"
   ]
  },
  {
   "cell_type": "markdown",
   "metadata": {},
   "source": [
    "### Getting coins"
   ]
  },
  {
   "cell_type": "code",
   "execution_count": 11,
   "metadata": {
    "collapsed": false
   },
   "outputs": [
    {
     "ename": "NameError",
     "evalue": "name 'coins' is not defined",
     "output_type": "error",
     "traceback": [
      "\u001b[0;31m---------------------------------------------------------------------------\u001b[0m",
      "\u001b[0;31mNameError\u001b[0m                                 Traceback (most recent call last)",
      "\u001b[0;32m<ipython-input-11-79525307bc38>\u001b[0m in \u001b[0;36m<module>\u001b[0;34m()\u001b[0m\n\u001b[0;32m----> 1\u001b[0;31m \u001b[0mcoins\u001b[0m\u001b[0;34m.\u001b[0m\u001b[0mcoin\u001b[0m\u001b[0;34m(\u001b[0m\u001b[0;34m\"BTC\"\u001b[0m\u001b[0;34m)\u001b[0m\u001b[0;34m\u001b[0m\u001b[0m\n\u001b[0m\u001b[1;32m      2\u001b[0m \u001b[0mcoins\u001b[0m\u001b[0;34m.\u001b[0m\u001b[0mexchange\u001b[0m\u001b[0;34m(\u001b[0m\u001b[0;34m\"Poloniex\"\u001b[0m\u001b[0;34m)\u001b[0m\u001b[0;34m\u001b[0m\u001b[0m\n\u001b[1;32m      3\u001b[0m \u001b[0mcoins\u001b[0m\u001b[0;34m.\u001b[0m\u001b[0mprice\u001b[0m\u001b[0;34m(\u001b[0m\u001b[0;36m0.0\u001b[0m\u001b[0;34m,\u001b[0m \u001b[0;36m100000\u001b[0m\u001b[0;34m,\u001b[0m \u001b[0mDate\u001b[0m\u001b[0;34m(\u001b[0m\u001b[0;36m2016\u001b[0m\u001b[0;34m,\u001b[0m \u001b[0;36m11\u001b[0m\u001b[0;34m,\u001b[0m \u001b[0;36m11\u001b[0m\u001b[0;34m)\u001b[0m\u001b[0;34m)\u001b[0m\u001b[0;34m\u001b[0m\u001b[0m\n\u001b[1;32m      4\u001b[0m \u001b[0mcoins\u001b[0m\u001b[0;34m.\u001b[0m\u001b[0mcoin_data\u001b[0m\u001b[0;34m(\u001b[0m\u001b[0;34m\"BTC\"\u001b[0m\u001b[0;34m,\u001b[0m \u001b[0;34m{\u001b[0m \u001b[0;34m\"field\"\u001b[0m\u001b[0;34m:\u001b[0m \u001b[0;34m\"AGE\"\u001b[0m \u001b[0;34m}\u001b[0m\u001b[0;34m)\u001b[0m\u001b[0;34m\u001b[0m\u001b[0m\n\u001b[1;32m      5\u001b[0m \u001b[0mcoins\u001b[0m\u001b[0;34m.\u001b[0m\u001b[0mcoin_data\u001b[0m\u001b[0;34m(\u001b[0m\u001b[0;34m\"BTC\"\u001b[0m\u001b[0;34m,\u001b[0m \u001b[0;34m{\u001b[0m \u001b[0;34m\"field\"\u001b[0m\u001b[0;34m:\u001b[0m \u001b[0;34m\"VOL\"\u001b[0m \u001b[0;34m,\u001b[0m \u001b[0;34m\"period\"\u001b[0m\u001b[0;34m:\u001b[0m \u001b[0;36m30\u001b[0m\u001b[0;34m,\u001b[0m \u001b[0;34m\"freq\"\u001b[0m\u001b[0;34m:\u001b[0m \u001b[0;34m\"d\"\u001b[0m\u001b[0;34m}\u001b[0m\u001b[0;34m)\u001b[0m\u001b[0;34m\u001b[0m\u001b[0m\n",
      "\u001b[0;31mNameError\u001b[0m: name 'coins' is not defined"
     ]
    }
   ],
   "source": [
    "coins.coin(\"BTC\")\n",
    "coins.exchange(\"Poloniex\")\n",
    "coins.price(0.0, 100000, Date(2016, 11, 11))\n",
    "coins.coin_data(\"BTC\", { \"field\": \"AGE\" })\n",
    "coins.coin_data(\"BTC\", { \"field\": \"VOL\" , \"period\": 30, \"freq\": \"d\"})"
   ]
  },
  {
   "cell_type": "code",
   "execution_count": null,
   "metadata": {
    "collapsed": true
   },
   "outputs": [],
   "source": []
  }
 ],
 "metadata": {
  "anaconda-cloud": {},
  "kernelspec": {
   "display_name": "Python [Root]",
   "language": "python",
   "name": "Python [Root]"
  },
  "language_info": {
   "codemirror_mode": {
    "name": "ipython",
    "version": 3
   },
   "file_extension": ".py",
   "mimetype": "text/x-python",
   "name": "python",
   "nbconvert_exporter": "python",
   "pygments_lexer": "ipython3",
   "version": "3.5.2"
  }
 },
 "nbformat": 4,
 "nbformat_minor": 0
}
