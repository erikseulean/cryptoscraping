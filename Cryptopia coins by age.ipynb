{
 "cells": [
  {
   "cell_type": "code",
   "execution_count": 3,
   "metadata": {
    "collapsed": false
   },
   "outputs": [],
   "source": [
    "from crypto.libs.coins import Coins"
   ]
  },
  {
   "cell_type": "code",
   "execution_count": 4,
   "metadata": {
    "collapsed": false
   },
   "outputs": [],
   "source": [
    "coin = Coins()"
   ]
  },
  {
   "cell_type": "code",
   "execution_count": 5,
   "metadata": {
    "collapsed": true
   },
   "outputs": [],
   "source": [
    "coins = coin.exchanges(['Binance'])"
   ]
  },
  {
   "cell_type": "code",
   "execution_count": 8,
   "metadata": {
    "collapsed": false
   },
   "outputs": [
    {
     "name": "stdout",
     "output_type": "stream",
     "text": [
      "['SUB', 'LRC', 'ZEC', 'STRAT', 'KMD', 'LSK', 'DASH', 'VEN', 'BTS', 'TRX', 'QTUM', 'GAS', 'BNB', 'DGD', 'HSR', 'EOS', 'ELF', 'BCH', 'ICX', 'XMR', 'SALT', 'REQ', 'BTC', 'FUN', 'POWR', 'NEBL', 'WTC', 'GXS', 'ETC', 'XRP', 'SNT', 'USDT', 'QSP', 'ETHOS', 'BAT', 'ETH', 'ADA', 'ZRX', 'LINK', 'ENG', 'MIOTA', 'ARK', 'CND', 'XVG', 'KNC', 'XZC', 'XLM', 'PPT', 'OMG', 'AION', 'WAVES', 'BNT', 'BTG', 'LTC', 'NEO']\n"
     ]
    }
   ],
   "source": [
    "print(list(coins))"
   ]
  },
  {
   "cell_type": "code",
   "execution_count": 6,
   "metadata": {
    "collapsed": true
   },
   "outputs": [],
   "source": [
    "poloniex = coin.exchanges(['Poloniex'])"
   ]
  },
  {
   "cell_type": "code",
   "execution_count": 7,
   "metadata": {
    "collapsed": false,
    "scrolled": true
   },
   "outputs": [
    {
     "name": "stdout",
     "output_type": "stream",
     "text": [
      "['ZEC', 'STRAT', 'LSK', 'DASH', 'BTS', 'GAS', 'ARDR', 'DOGE', 'BCN', 'GNT', 'BCH', 'SC', 'XMR', 'DGB', 'BTC', 'ETC', 'SYS', 'XRP', 'USDT', 'STEEM', 'XEM', 'ETH', 'NXT', 'ZRX', 'FCT', 'XLM', 'OMG', 'MAID', 'DCR', 'REP', 'GNO', 'LTC']\n"
     ]
    }
   ],
   "source": [
    "print(list(poloniex))"
   ]
  },
  {
   "cell_type": "code",
   "execution_count": 10,
   "metadata": {
    "collapsed": false
   },
   "outputs": [],
   "source": [
    "poloniex_only = [item for item in list(poloniex) if item not in set(coins)]"
   ]
  },
  {
   "cell_type": "code",
   "execution_count": 11,
   "metadata": {
    "collapsed": false
   },
   "outputs": [
    {
     "name": "stdout",
     "output_type": "stream",
     "text": [
      "['ARDR', 'DOGE', 'BCN', 'GNT', 'SC', 'DGB', 'SYS', 'STEEM', 'XEM', 'NXT', 'FCT', 'MAID', 'DCR', 'REP', 'GNO']\n"
     ]
    }
   ],
   "source": [
    "print(poloniex_only)"
   ]
  },
  {
   "cell_type": "code",
   "execution_count": null,
   "metadata": {
    "collapsed": false
   },
   "outputs": [],
   "source": [
    "from crypto.libs.price import Price\n",
    "price = Price()"
   ]
  },
  {
   "cell_type": "code",
   "execution_count": null,
   "metadata": {
    "collapsed": false
   },
   "outputs": [],
   "source": [
    "for c, age in data:\n",
    "    if age > 0.1 and age < 0.2:\n",
    "        coin_price = price.current(base_coin=c, traded_coin='BTC', exchange='Cryptopia')\n",
    "        print(c, coin_price * 14949)"
   ]
  },
  {
   "cell_type": "code",
   "execution_count": null,
   "metadata": {
    "collapsed": false
   },
   "outputs": [],
   "source": [
    "btc_price = price.current('BTC', 'USD', 'Bitstamp')"
   ]
  },
  {
   "cell_type": "code",
   "execution_count": null,
   "metadata": {
    "collapsed": false
   },
   "outputs": [],
   "source": [
    "btc_price"
   ]
  },
  {
   "cell_type": "code",
   "execution_count": null,
   "metadata": {
    "collapsed": false
   },
   "outputs": [],
   "source": [
    "'SEND'"
   ]
  },
  {
   "cell_type": "code",
   "execution_count": null,
   "metadata": {
    "collapsed": false
   },
   "outputs": [],
   "source": [
    "'TOK'\n",
    "'BWK'\n",
    "'DCORP'\n",
    "'BPL'\n",
    "'UFR'\n",
    "'POWR'\n",
    "'HST'\n",
    "'DGPT'\n",
    "'R'"
   ]
  },
  {
   "cell_type": "code",
   "execution_count": 1,
   "metadata": {
    "collapsed": false
   },
   "outputs": [],
   "source": [
    "from crypto.libs.scraping.refresh import run"
   ]
  },
  {
   "cell_type": "code",
   "execution_count": 2,
   "metadata": {
    "collapsed": false,
    "scrolled": true
   },
   "outputs": [
    {
     "name": "stdout",
     "output_type": "stream",
     "text": [
      "saved html source to all_cryptos.html\n",
      "loaded all coins into coins.csv\n",
      "['zcoin']\n",
      "['bancor']\n",
      "['cryptonex']\n",
      "['substratum']\n",
      "['quantstamp']\n",
      "['bitcore']\n",
      "['medibloc']\n",
      "['experience', 'points']\n",
      "['tenx']\n",
      "['gnosis', 'gno']\n",
      "['xplay']\n"
     ]
    }
   ],
   "source": [
    "run()"
   ]
  },
  {
   "cell_type": "code",
   "execution_count": null,
   "metadata": {
    "collapsed": false,
    "scrolled": false
   },
   "outputs": [],
   "source": [
    "for c, age in data:\n",
    "    if age < 0.1: \n",
    "        coin_price = price.current(base_coin=c, traded_coin='BTC', exchange='Cryptopia')\n",
    "        print(c, coin_price * 15000)p "
   ]
  }
 ],
 "metadata": {
  "anaconda-cloud": {},
  "kernelspec": {
   "display_name": "Python [conda root]",
   "language": "python",
   "name": "conda-root-py"
  },
  "language_info": {
   "codemirror_mode": {
    "name": "ipython",
    "version": 3
   },
   "file_extension": ".py",
   "mimetype": "text/x-python",
   "name": "python",
   "nbconvert_exporter": "python",
   "pygments_lexer": "ipython3",
   "version": "3.5.2"
  }
 },
 "nbformat": 4,
 "nbformat_minor": 1
}
