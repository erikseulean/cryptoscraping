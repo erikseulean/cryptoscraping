{
 "cells": [
  {
   "cell_type": "code",
   "execution_count": 1,
   "metadata": {
    "collapsed": false
   },
   "outputs": [],
   "source": [
    "from crypto.libs.coins import Coins"
   ]
  },
  {
   "cell_type": "code",
   "execution_count": 2,
   "metadata": {
    "collapsed": false
   },
   "outputs": [
    {
     "name": "stdout",
     "output_type": "stream",
     "text": [
      "No symbol for coin  faceblock\n"
     ]
    }
   ],
   "source": [
    "coin = Coins()"
   ]
  },
  {
   "cell_type": "code",
   "execution_count": 3,
   "metadata": {
    "collapsed": true
   },
   "outputs": [],
   "source": [
    "coins = coin.exchanges(['Cryptopia'])"
   ]
  },
  {
   "cell_type": "code",
   "execution_count": 12,
   "metadata": {
    "collapsed": false
   },
   "outputs": [],
   "source": [
    "data = [(c, coin.coin_data(c,'AGE')) for c in coins]"
   ]
  },
  {
   "cell_type": "code",
   "execution_count": 11,
   "metadata": {
    "collapsed": false
   },
   "outputs": [],
   "source": [
    "from crypto.libs.price import Price\n",
    "price = Price()"
   ]
  },
  {
   "cell_type": "code",
   "execution_count": 27,
   "metadata": {
    "collapsed": false
   },
   "outputs": [
    {
     "name": "stdout",
     "output_type": "stream",
     "text": [
      "ETN 0.16772778\n",
      "SPANK 0.41124699\n",
      "DRP 2.1451815\n",
      "BPL 0.46670778\n",
      "DBET 0.46013022\n",
      "MONK 9.9605187\n",
      "PHR 6.4116261\n",
      "DIVX 10.61379\n",
      "XCPO 0.34681680000000004\n",
      "ENJ 0.4155822\n",
      "GBX 36.62505\n",
      "UFR 1.4874255\n",
      "POWR 1.614492\n",
      "DNA 1.34526051\n",
      "WC 1.46485251\n",
      "HST 5.411538\n",
      "DGPT 5.9796000000000005\n",
      "PRL 3.5593568999999996\n",
      "ELLA 2.6086005\n",
      "INN 10.060677\n",
      "HOLD 0.07594092\n",
      "R 1.2616956000000001\n",
      "WISH 1.27141245\n",
      "PLX 0.03677454\n",
      "PBL 2.9733561\n"
     ]
    }
   ],
   "source": [
    "for c, age in data:\n",
    "    if age > 0.1 and age < 0.2:\n",
    "        coin_price = price.current(base_coin=c, traded_coin='BTC', exchange='Cryptopia')\n",
    "        print(c, coin_price * 14949)"
   ]
  },
  {
   "cell_type": "code",
   "execution_count": 23,
   "metadata": {
    "collapsed": false
   },
   "outputs": [],
   "source": [
    "btc_price = price.current('BTC', 'USD', 'Bitstamp')"
   ]
  },
  {
   "cell_type": "code",
   "execution_count": 24,
   "metadata": {
    "collapsed": false
   },
   "outputs": [
    {
     "data": {
      "text/plain": [
       "14949.99"
      ]
     },
     "execution_count": 24,
     "metadata": {},
     "output_type": "execute_result"
    }
   ],
   "source": [
    "btc_price"
   ]
  },
  {
   "cell_type": "code",
   "execution_count": 26,
   "metadata": {
    "collapsed": false
   },
   "outputs": [
    {
     "data": {
      "text/plain": [
       "'SEND'"
      ]
     },
     "execution_count": 26,
     "metadata": {},
     "output_type": "execute_result"
    }
   ],
   "source": [
    "'SEND'"
   ]
  },
  {
   "cell_type": "code",
   "execution_count": 28,
   "metadata": {
    "collapsed": false
   },
   "outputs": [
    {
     "data": {
      "text/plain": [
       "'DGPT'"
      ]
     },
     "execution_count": 28,
     "metadata": {},
     "output_type": "execute_result"
    }
   ],
   "source": [
    "'TOK'\n",
    "'BWK'\n",
    "'DCORP'\n",
    "'BPL'\n",
    "'UFR'\n",
    "'POWR'\n",
    "'HST'\n",
    "'DGPT'\n",
    "'R'"
   ]
  },
  {
   "cell_type": "code",
   "execution_count": 47,
   "metadata": {
    "collapsed": false
   },
   "outputs": [
    {
     "name": "stdout",
     "output_type": "stream",
     "text": [
      "SAGA 10.068000000000001\n",
      "BON 0.85275\n",
      "MAGE 3.78\n",
      "CAPP 0.3849\n",
      "SEND 0.53865\n",
      "TOK 4.3965000000000005\n",
      "PCOIN 0.8099999999999999\n",
      "BWK 11.136000000000001\n",
      "HBC 5.1885\n",
      "SBC 0.38985000000000003\n",
      "CRC 28.335\n"
     ]
    }
   ],
   "source": [
    "for c, age in data:\n",
    "    if age < 0.1: \n",
    "        coin_price = price.current(base_coin=c, traded_coin='BTC', exchange='Cryptopia')\n",
    "        print(c, coin_price * 15000)"
   ]
  },
  {
   "cell_type": "code",
   "execution_count": 31,
   "metadata": {
    "collapsed": false
   },
   "outputs": [
    {
     "data": {
      "text/plain": [
       "'SAGA'"
      ]
     },
     "execution_count": 31,
     "metadata": {},
     "output_type": "execute_result"
    }
   ],
   "source": [
    "'SAGA'"
   ]
  },
  {
   "cell_type": "code",
   "execution_count": null,
   "metadata": {
    "collapsed": true
   },
   "outputs": [],
   "source": [
    "'MAGE'\n",
    "'"
   ]
  }
 ],
 "metadata": {
  "anaconda-cloud": {},
  "kernelspec": {
   "display_name": "Python [Root]",
   "language": "python",
   "name": "Python [Root]"
  },
  "language_info": {
   "codemirror_mode": {
    "name": "ipython",
    "version": 3
   },
   "file_extension": ".py",
   "mimetype": "text/x-python",
   "name": "python",
   "nbconvert_exporter": "python",
   "pygments_lexer": "ipython3",
   "version": "3.5.2"
  }
 },
 "nbformat": 4,
 "nbformat_minor": 1
}
