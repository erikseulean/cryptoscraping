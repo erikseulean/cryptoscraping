{
 "cells": [
  {
   "cell_type": "code",
   "execution_count": 3,
   "metadata": {
    "collapsed": true
   },
   "outputs": [],
   "source": [
    "from IPython.core.interactiveshell import InteractiveShell\n",
    "InteractiveShell.ast_node_interactivity = \"all\""
   ]
  },
  {
   "cell_type": "code",
   "execution_count": 4,
   "metadata": {
    "collapsed": true
   },
   "outputs": [],
   "source": [
    "from datetime import datetime as Date\n",
    "from crypto.libs.marketcap import MarketCap\n",
    "from crypto.libs.price import Price\n",
    "from crypto.libs.coins import Coins\n",
    "from crypto.libs.scraping.refresh import run as MarketCapInit\n",
    "from crypto.libs import dateutils"
   ]
  },
  {
   "cell_type": "markdown",
   "metadata": {},
   "source": [
    "### Querying coins information"
   ]
  },
  {
   "cell_type": "code",
   "execution_count": 11,
   "metadata": {
    "collapsed": true
   },
   "outputs": [],
   "source": [
    "#MarketCapInit()\n",
    "start_date = Date(2017, 10, 17)\n",
    "end_date = Date(2017, 11, 17)"
   ]
  },
  {
   "cell_type": "code",
   "execution_count": 9,
   "metadata": {
    "collapsed": true
   },
   "outputs": [],
   "source": [
    "coins = Coins()"
   ]
  },
  {
   "cell_type": "code",
   "execution_count": 10,
   "metadata": {
    "collapsed": false
   },
   "outputs": [
    {
     "data": {
      "text/html": [
       "<div>\n",
       "<table border=\"1\" class=\"dataframe\">\n",
       "  <thead>\n",
       "    <tr style=\"text-align: right;\">\n",
       "      <th></th>\n",
       "      <th>Symbol</th>\n",
       "      <th>Coin</th>\n",
       "      <th>Date</th>\n",
       "      <th>Open</th>\n",
       "      <th>High</th>\n",
       "      <th>Low</th>\n",
       "      <th>Close</th>\n",
       "      <th>Volume</th>\n",
       "      <th>Market-Cap</th>\n",
       "    </tr>\n",
       "  </thead>\n",
       "  <tbody>\n",
       "    <tr>\n",
       "      <th>3408</th>\n",
       "      <td>XRP</td>\n",
       "      <td>ripple</td>\n",
       "      <td>2016-11-11</td>\n",
       "      <td>0.008131</td>\n",
       "      <td>0.008146</td>\n",
       "      <td>0.008058</td>\n",
       "      <td>0.008065</td>\n",
       "      <td>2039200.0</td>\n",
       "      <td>290820000.0</td>\n",
       "    </tr>\n",
       "    <tr>\n",
       "      <th>5087</th>\n",
       "      <td>XWC</td>\n",
       "      <td>whitecoin</td>\n",
       "      <td>2016-11-11</td>\n",
       "      <td>0.000315</td>\n",
       "      <td>0.000322</td>\n",
       "      <td>0.000307</td>\n",
       "      <td>0.000308</td>\n",
       "      <td>21.0</td>\n",
       "      <td>96523.0</td>\n",
       "    </tr>\n",
       "  </tbody>\n",
       "</table>\n",
       "</div>"
      ],
      "text/plain": [
       "     Symbol       Coin       Date      Open      High       Low     Close  \\\n",
       "3408    XRP     ripple 2016-11-11  0.008131  0.008146  0.008058  0.008065   \n",
       "5087    XWC  whitecoin 2016-11-11  0.000315  0.000322  0.000307  0.000308   \n",
       "\n",
       "         Volume   Market-Cap  \n",
       "3408  2039200.0  290820000.0  \n",
       "5087       21.0      96523.0  "
      ]
     },
     "execution_count": 10,
     "metadata": {},
     "output_type": "execute_result"
    },
    {
     "data": {
      "text/plain": [
       "datetime.datetime(2013, 4, 28, 0, 0)"
      ]
     },
     "execution_count": 10,
     "metadata": {},
     "output_type": "execute_result"
    },
    {
     "data": {
      "text/plain": [
       "4.71"
      ]
     },
     "execution_count": 10,
     "metadata": {},
     "output_type": "execute_result"
    }
   ],
   "source": [
    "#coins.coin(\"BTC\")\n",
    "coins.price(0.0, 1, Date(2016, 11, 11)).head(2)\n",
    "coins.coin_data(\"BTC\", { \"field\": \"ICO\" })\n",
    "coins.coin_data(\"BTC\", { \"field\": \"AGE\" })\n",
    "coins.coin_data(\"BTC\", { \"field\": \"MARKETS\" })\n",
    "coins.coin_data(\"BTC\", { \"field\": \"VOL\" , \"period\": 30, \"freq\": \"d\"})"
   ]
  },
  {
   "cell_type": "code",
   "execution_count": 12,
   "metadata": {
    "collapsed": false
   },
   "outputs": [
    {
     "name": "stdout",
     "output_type": "stream",
     "text": [
      "2017-10-17 00:00:00 2017-11-17 00:00:00\n"
     ]
    }
   ],
   "source": [
    "print (start_date, end_date)\n",
    "#coins.new_coins(Date(2011, 12, 1), Date(2018, 1, 3))"
   ]
  },
  {
   "cell_type": "code",
   "execution_count": 13,
   "metadata": {
    "collapsed": false
   },
   "outputs": [
    {
     "data": {
      "text/plain": [
       "0.47"
      ]
     },
     "execution_count": 13,
     "metadata": {},
     "output_type": "execute_result"
    }
   ],
   "source": [
    "coins.coin_data(\"SMART\", {\"field\":\"AGE\"})"
   ]
  },
  {
   "cell_type": "code",
   "execution_count": 14,
   "metadata": {
    "collapsed": false
   },
   "outputs": [
    {
     "data": {
      "text/plain": [
       "{'BCH', 'BTC', 'ETH', 'LTC', 'XRP'}"
      ]
     },
     "execution_count": 14,
     "metadata": {},
     "output_type": "execute_result"
    },
    {
     "data": {
      "text/plain": [
       "datetime.datetime(2015, 8, 7, 0, 0)"
      ]
     },
     "execution_count": 14,
     "metadata": {},
     "output_type": "execute_result"
    },
    {
     "data": {
      "text/plain": [
       "2.43"
      ]
     },
     "execution_count": 14,
     "metadata": {},
     "output_type": "execute_result"
    },
    {
     "data": {
      "text/plain": [
       "['LiteBit.eu',\n",
       " 'Trade Satoshi',\n",
       " 'YoBit',\n",
       " 'CryptoBridge',\n",
       " 'Cryptopia',\n",
       " 'Binance',\n",
       " 'HitBTC',\n",
       " 'Bittrex',\n",
       " 'SouthXchange']"
      ]
     },
     "execution_count": 14,
     "metadata": {},
     "output_type": "execute_result"
    },
    {
     "data": {
      "text/plain": [
       "['ESC', 'GUC', 'FDX', 'GML', 'PLAY', 'MTX', 'SHELL', 'URC', 'FID', 'WMC']"
      ]
     },
     "execution_count": 14,
     "metadata": {},
     "output_type": "execute_result"
    }
   ],
   "source": [
    "coins.exchanges([\"Bitstamp\"])\n",
    "coins.coin_data(\"ETH\", {\"field\":\"ICO\"})\n",
    "coins.coin_data(\"ETH\", {\"field\":\"AGE\"})\n",
    "coins.coin_data(\"XVG\", {\"field\":\"EXCHANGES\"})\n",
    "coins.new_coins(Date(2018, 1, 1), Date(2018, 1, 5))"
   ]
  }
 ],
 "metadata": {
  "kernelspec": {
   "display_name": "Python [Root]",
   "language": "python",
   "name": "Python [Root]"
  },
  "language_info": {
   "codemirror_mode": {
    "name": "ipython",
    "version": 3
   },
   "file_extension": ".py",
   "mimetype": "text/x-python",
   "name": "python",
   "nbconvert_exporter": "python",
   "pygments_lexer": "ipython3",
   "version": "3.5.2"
  }
 },
 "nbformat": 4,
 "nbformat_minor": 0
}
