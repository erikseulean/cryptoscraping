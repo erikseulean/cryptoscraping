{
 "cells": [
  {
   "cell_type": "code",
   "execution_count": 1,
   "metadata": {
    "collapsed": false
   },
   "outputs": [],
   "source": [
    "import datetime\n",
    "import pandas as pd\n",
    "import numpy as np\n",
    "from IPython.core.interactiveshell import InteractiveShell\n",
    "InteractiveShell.ast_node_interactivity = \"all\""
   ]
  },
  {
   "cell_type": "code",
   "execution_count": 2,
   "metadata": {
    "collapsed": false
   },
   "outputs": [],
   "source": [
    "import utils\n",
    "import analytics\n",
    "import portfolio\n",
    "import backtester\n",
    "import models\n",
    "# import refresh\n",
    "# refresh.run()"
   ]
  },
  {
   "cell_type": "code",
   "execution_count": 3,
   "metadata": {
    "collapsed": false
   },
   "outputs": [],
   "source": [
    "data = analytics.cleaned_dataset()"
   ]
  },
  {
   "cell_type": "code",
   "execution_count": 4,
   "metadata": {
    "collapsed": false
   },
   "outputs": [
    {
     "name": "stdout",
     "output_type": "stream",
     "text": [
      "\n",
      "Testing model StrategyBottomTenofTopOneHundredMarketCap\n",
      "Report 2017-01-01 to 2017-01-31, PV from 100.0 to 142.743, chg $42.743 pct 42.743%\n",
      "Report 2017-01-31 to 2017-03-02, PV from 142.743 to 185.841, chg $43.099 pct 30.193%\n",
      "Report 2017-03-02 to 2017-04-01, PV from 185.841 to 294.977, chg $109.136 pct 58.725%\n",
      "Report 2017-04-01 to 2017-05-01, PV from 294.977 to 465.408, chg $170.431 pct 57.778%\n",
      "Coin arcade-token no longer exists as of 2017-05-31\n",
      "Report 2017-05-01 to 2017-05-31, PV from 465.408 to 910.443, chg $445.035 pct 95.622%\n",
      "Coin arcade-token no longer exists as of 2017-05-31\n",
      "Report 2017-05-31 to 2017-06-30, PV from 910.443 to 1610.449, chg $700.006 pct 76.886%\n",
      "Report 2017-06-30 to 2017-07-30, PV from 1610.449 to 921.927, chg $-688.522 pct -42.753%\n",
      "Report 2017-07-30 to 2017-08-29, PV from 921.927 to 1268.469, chg $346.542 pct 37.589%\n",
      "Report 2017-08-29 to 2017-09-28, PV from 1268.469 to 1146.788, chg $-121.68 pct -9.593%\n",
      "Coin aidos-kuneen no longer exists as of 2017-10-28\n",
      "Report 2017-09-28 to 2017-10-28, PV from 1146.788 to 1415.457, chg $268.669 pct 23.428%\n",
      "Coin aidos-kuneen no longer exists as of 2017-10-28\n",
      "Report 2017-10-28 to 2017-11-27, PV from 1415.457 to 1707.468, chg $292.011 pct 20.63%\n",
      "Report 2017-11-27 to 2017-12-22, PV from 1707.468 to 3174.631, chg $1467.163 pct 85.926%\n",
      "Invested 100 Cashed out 3174.630849413214 Profit $3074.631 Return 3074.631%\n",
      "\n",
      "Testing model StrategyBottomTenofTopOneHundredMarketCapUnderTwentyCents\n",
      "Report 2017-01-01 to 2017-01-31, PV from 100.0 to 120.863, chg $20.863 pct 20.863%\n",
      "Report 2017-01-31 to 2017-03-02, PV from 120.863 to 160.104, chg $39.241 pct 32.468%\n",
      "Report 2017-03-02 to 2017-04-01, PV from 160.104 to 256.773, chg $96.669 pct 60.379%\n",
      "Report 2017-04-01 to 2017-05-01, PV from 256.773 to 466.664, chg $209.891 pct 81.742%\n",
      "Report 2017-05-01 to 2017-05-31, PV from 466.664 to 771.362, chg $304.698 pct 65.293%\n",
      "Report 2017-05-31 to 2017-06-30, PV from 771.362 to 1801.92, chg $1030.558 pct 133.602%\n",
      "Report 2017-06-30 to 2017-07-30, PV from 1801.92 to 1215.831, chg $-586.089 pct -32.526%\n",
      "Report 2017-07-30 to 2017-08-29, PV from 1215.831 to 3818.289, chg $2602.458 pct 214.048%\n",
      "Report 2017-08-29 to 2017-09-28, PV from 3818.289 to 2721.471, chg $-1096.818 pct -28.725%\n",
      "Report 2017-09-28 to 2017-10-28, PV from 2721.471 to 1577.573, chg $-1143.898 pct -42.032%\n",
      "Report 2017-10-28 to 2017-11-27, PV from 1577.573 to 2202.663, chg $625.091 pct 39.624%\n",
      "Report 2017-11-27 to 2017-12-22, PV from 2202.663 to 4489.402, chg $2286.738 pct 103.817%\n",
      "Invested 100 Cashed out 4489.401742107142 Profit $4389.402 Return 4389.402%\n",
      "\n",
      "Testing model StrategyBottomTenofTopOneHundredMarketCapUnderTwoMil\n",
      "Report 2017-01-01 to 2017-01-31, PV from 100.0 to 132.735, chg $32.735 pct 32.735%\n",
      "Report 2017-01-31 to 2017-03-02, PV from 132.735 to 157.715, chg $24.98 pct 18.819%\n",
      "Report 2017-03-02 to 2017-04-01, PV from 157.715 to 281.004, chg $123.288 pct 78.171%\n",
      "Coin jinn no longer exists as of 2017-05-01\n",
      "Report 2017-04-01 to 2017-05-01, PV from 281.004 to 442.209, chg $161.205 pct 57.368%\n",
      "Coin jinn no longer exists as of 2017-05-01\n",
      "Report 2017-05-01 to 2017-05-31, PV from 442.209 to 1038.058, chg $595.849 pct 134.744%\n",
      "Report 2017-05-31 to 2017-06-30, PV from 1038.058 to 2168.252, chg $1130.193 pct 108.876%\n",
      "Report 2017-06-30 to 2017-07-30, PV from 2168.252 to 1274.675, chg $-893.577 pct -41.212%\n",
      "Report 2017-07-30 to 2017-08-29, PV from 1274.675 to 2862.055, chg $1587.38 pct 124.532%\n",
      "Report 2017-08-29 to 2017-09-28, PV from 2862.055 to 2228.065, chg $-633.99 pct -22.152%\n",
      "Report 2017-09-28 to 2017-10-28, PV from 2228.065 to 1585.047, chg $-643.018 pct -28.86%\n",
      "Report 2017-10-28 to 2017-11-27, PV from 1585.047 to 2147.708, chg $562.661 pct 35.498%\n",
      "Report 2017-11-27 to 2017-12-22, PV from 2147.708 to 4519.543, chg $2371.835 pct 110.436%\n",
      "Invested 100 Cashed out 4519.543179849592 Profit $4419.543 Return 4419.543%\n",
      "\n",
      "Testing model StrategyTopMarketCap\n",
      "Report 2017-01-01 to 2017-01-31, PV from 100.0 to 110.904, chg $10.904 pct 10.904%\n",
      "Report 2017-01-31 to 2017-03-02, PV from 110.904 to 152.707, chg $41.803 pct 37.693%\n",
      "Report 2017-03-02 to 2017-04-01, PV from 152.707 to 297.514, chg $144.807 pct 94.827%\n",
      "Report 2017-04-01 to 2017-05-01, PV from 297.514 to 539.523, chg $242.009 pct 81.344%\n",
      "Report 2017-05-01 to 2017-05-31, PV from 539.523 to 1289.735, chg $750.213 pct 139.051%\n",
      "Report 2017-05-31 to 2017-06-30, PV from 1289.735 to 1464.736, chg $175.001 pct 13.569%\n",
      "Report 2017-06-30 to 2017-07-30, PV from 1464.736 to 1193.194, chg $-271.543 pct -18.539%\n",
      "Report 2017-07-30 to 2017-08-29, PV from 1193.194 to 2313.716, chg $1120.522 pct 93.91%\n",
      "Report 2017-08-29 to 2017-09-28, PV from 2313.716 to 1946.242, chg $-367.474 pct -15.882%\n",
      "Report 2017-09-28 to 2017-10-28, PV from 1946.242 to 1842.571, chg $-103.671 pct -5.327%\n",
      "Report 2017-10-28 to 2017-11-27, PV from 1842.571 to 3395.656, chg $1553.085 pct 84.289%\n",
      "Report 2017-11-27 to 2017-12-22, PV from 3395.656 to 7222.982, chg $3827.326 pct 112.712%\n",
      "Invested 100 Cashed out 7222.9819365957055 Profit $7122.982 Return 7122.982%\n",
      "\n",
      "Testing model StrategyTopTenofTopOneHundredMarketCapUnderTwentyCents\n",
      "Report 2017-01-01 to 2017-01-31, PV from 100.0 to 119.439, chg $19.439 pct 19.439%\n",
      "Report 2017-01-31 to 2017-03-02, PV from 119.439 to 110.461, chg $-8.978 pct -7.517%\n",
      "Report 2017-03-02 to 2017-04-01, PV from 110.461 to 244.099, chg $133.638 pct 120.982%\n",
      "Report 2017-04-01 to 2017-05-01, PV from 244.099 to 472.549, chg $228.45 pct 93.589%\n",
      "Report 2017-05-01 to 2017-05-31, PV from 472.549 to 2136.545, chg $1663.996 pct 352.132%\n",
      "Report 2017-05-31 to 2017-06-30, PV from 2136.545 to 3657.5, chg $1520.955 pct 71.188%\n",
      "Report 2017-06-30 to 2017-07-30, PV from 3657.5 to 2738.313, chg $-919.187 pct -25.132%\n",
      "Report 2017-07-30 to 2017-08-29, PV from 2738.313 to 3708.366, chg $970.054 pct 35.425%\n",
      "Report 2017-08-29 to 2017-09-28, PV from 3708.366 to 2705.094, chg $-1003.273 pct -27.054%\n",
      "Report 2017-09-28 to 2017-10-28, PV from 2705.094 to 2795.668, chg $90.574 pct 3.348%\n",
      "Report 2017-10-28 to 2017-11-27, PV from 2795.668 to 4394.476, chg $1598.808 pct 57.189%\n",
      "Report 2017-11-27 to 2017-12-22, PV from 4394.476 to 23743.047, chg $19348.572 pct 440.293%\n",
      "Invested 100 Cashed out 23743.047296735254 Profit $23643.047 Return 23643.047%\n"
     ]
    }
   ],
   "source": [
    "testModels = [('StrategyBottomTenofTopOneHundredMarketCap', \n",
    "                   models.StrategyBottomTenofTopOneHundredMarketCap),\n",
    "              ('StrategyBottomTenofTopOneHundredMarketCapUnderTwentyCents', \n",
    "                   models.StrategyBottomTenofTopOneHundredMarketCapUnderTwentyCents), \n",
    "              ('StrategyBottomTenofTopOneHundredMarketCapUnderTwoMil', \n",
    "                   models.StrategyBottomTenofTopOneHundredMarketCapUnderTwoMil),\n",
    "              ('StrategyTopMarketCap', \n",
    "                   models.StrategyTopMarketCap),\n",
    "              ('StrategyTopTenofTopOneHundredMarketCapUnderTwentyCents', \n",
    "                   models.StrategyTopTenofTopOneHundredMarketCapUnderTwentyCents)]\n",
    "\n",
    "for name, mdl in testModels:\n",
    "    model = mdl(data)\n",
    "    startDate = datetime.date(2017, 1, 1)\n",
    "    endDate = datetime.date(2017, 12, 22)\n",
    "    initialCash = 100\n",
    "\n",
    "    print (\"\\nTesting model {}\".format(name))\n",
    "    tester = backtester.Backtester(data, model, startDate, endDate, (1, \"m\"), initialCash)\n",
    "    tester.run(verbose=False)"
   ]
  },
  {
   "cell_type": "code",
   "execution_count": null,
   "metadata": {
    "collapsed": false,
    "scrolled": false
   },
   "outputs": [],
   "source": [
    "model = models.StrategyTopMarketCap(data)\n",
    "\n",
    "startDate = datetime.date(2017, 1, 1)\n",
    "endDate = datetime.date(2017, 12, 22)\n",
    "initialCash = 100\n",
    "\n",
    "tester = backtester.Backtester(data, model, startDate, endDate, (1, \"m\"), initialCash)\n",
    "tester.run(verbose=False)"
   ]
  }
 ],
 "metadata": {
  "kernelspec": {
   "display_name": "Python [Root]",
   "language": "python",
   "name": "Python [Root]"
  },
  "language_info": {
   "codemirror_mode": {
    "name": "ipython",
    "version": 3
   },
   "file_extension": ".py",
   "mimetype": "text/x-python",
   "name": "python",
   "nbconvert_exporter": "python",
   "pygments_lexer": "ipython3",
   "version": "3.5.2"
  }
 },
 "nbformat": 4,
 "nbformat_minor": 0
}
