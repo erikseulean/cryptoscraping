{
 "cells": [
  {
   "cell_type": "markdown",
   "metadata": {
    "deletable": true,
    "editable": true
   },
   "source": [
    "# cryptocompy\n",
    "\n",
    "Simple wrapper for the public CryptoCompare API.\n",
    "\n",
    "Cryptocompare API:\n",
    "https://www.cryptocompare.com/api\n",
    "\n",
    "## Table of Contents\n",
    "\n",
    "* [ToDo](#ToDo)\n",
    "* [Installation](#Installation)\n",
    "* [Code of Conduct](#code-of-conduct)\n",
    "* [Contributing](#Contributing)\n",
    "* [Documentation](#Documentation)\n",
    "    * [coin.py](#coinpy)\n",
    "        * [get_coin_list](#get_coin_list)\n",
    "        * [get_coin_snapshot](#get_coin_snapshot)\n",
    "    * [price.py](#pricepy)\n",
    "        * [get_current_price](#get_current_price)\n",
    "        * [get_current_trading_info](#get_current_trading_info)\n",
    "        * [get_day_average_price](#get_day_average_price)\n",
    "    * [mining.py](#miningpy)\n",
    "        * [get_mining_contracts](#get_mining_contracts)\n",
    "        * [get_mining_equipment](#get_mining_equipment)\n",
    "    * [top.py](#toppy)\n",
    "        * [get_top_exchanges](#get_top_exchanges)\n",
    "        * [get_top_coins](#get_top_coins)\n",
    "        * [get_top_pairs](#get_top_pairs)\n",
    "\n",
    "## ToDo:\n",
    "\n",
    "- add all get functions\n",
    "- complete docstrings\n",
    "- create readme with examples\n",
    "- error handling for http requests\n",
    "- throw warnings for conversions\n",
    "- add toTs parameter to price functions\n",
    "- improve date handling in historical price functions\n",
    "- add folder with some more complex example code (for eg. compare average mining equipment prices graphically)\n",
    "\n",
    "- both mining contracts and equipment calls return same message -> tell CC Support?\n",
    "\n",
    "\n",
    "## Installation\n",
    "\n",
    "dsfsdfdsfsdfds\n",
    "sdfsdfdfsdfsdfsdf\n",
    "sdfsdfdsfsdfsdfsdf\n",
    "sfsdfsdfdsfffsdfsdf\n",
    "fdsdfsdfsdfds\n",
    "\n",
    "## Code of Conduct\n",
    "\n",
    "Dont abuse wrapper to spam the Cryptocompare API. A request every 10 seconds should be more than enough.\n",
    "\n",
    "## Contributing\n",
    "\n",
    "If you would like to help me with my work or have any suggestions for improvements please follow the \"fork-and-pull\" Git workflow.\n",
    "\n",
    "1. Fork the repo on GitHub\n",
    "2. Clone the project to your own machine\n",
    "3. Commit changes to your own branch\n",
    "4. Push your work back up to your fork\n",
    "5. Submit a Pull request so that we can review your changes\n",
    "\n",
    "NOTE: Be sure to merge the latest from \"upstream\" before making a pull request!\n",
    "\n",
    "\n",
    "## Documentation\n",
    "\n",
    "### coin.py\n",
    "\n",
    "To access these functions, you can import them in the following way:"
   ]
  },
  {
   "cell_type": "code",
   "execution_count": 1,
   "metadata": {
    "collapsed": true
   },
   "outputs": [],
   "source": [
    "from cryptocompy import coin"
   ]
  },
  {
   "cell_type": "markdown",
   "metadata": {},
   "source": [
    "---\n",
    "\n",
    "#### get_coin_list\n",
    "\n",
    "```python\n",
    "get_coin_list(coins='all')\n",
    "```\n",
    "\n",
    "Get general information about all the coins available on cryptocompare.com.\n",
    "\n",
    "*Arguments:*\n",
    "\n",
    "`coins`: Default value of `'all'` returns information about all the coins available on the site. Otherwise a single string or list of coin symbols can be used.\n",
    "\n",
    "*Returns:*\n",
    "\n",
    "The function returns a dictionairy containing individual dictionairies for the coins specified by the input. The key of the top dictionary corresponds to the coin symbol. The dictionary returned has the following structure:\n",
    "\n",
    "```\n",
    "{coin_symbol1: {'Algorithm' : ...,\n",
    "                'CoinName': ...,\n",
    "                'FullName': ...,\n",
    "                'FullyPremined': ...,\n",
    "                'Id': ...,\n",
    "                'ImageUrl': ...,\n",
    "                'Name': ...,\n",
    "                'PreMinedValue': ...,\n",
    "                'ProofType': ...,\n",
    "                'SortOrder': ...,\n",
    "                'TotalCoinsFreeFloat': ...,\n",
    "                'TotalCoinSupply': ...,\n",
    "\t\t\t    'Url': ...},\n",
    " coin_symbol2: {...},\n",
    " ...}\n",
    "```\n",
    "\n",
    "*Example 1:*\n",
    "\n",
    "Get general coin information for Bitcoin and Ethereum."
   ]
  },
  {
   "cell_type": "code",
   "execution_count": 2,
   "metadata": {
    "collapsed": false,
    "deletable": true,
    "editable": true
   },
   "outputs": [
    {
     "data": {
      "text/plain": [
       "{'BTC': {'Algorithm': 'SHA256',\n",
       "  'CoinName': 'Bitcoin',\n",
       "  'FullName': 'Bitcoin (BTC)',\n",
       "  'FullyPremined': '0',\n",
       "  'Id': '1182',\n",
       "  'ImageUrl': '/media/19633/btc.png',\n",
       "  'Name': 'BTC',\n",
       "  'PreMinedValue': 'N/A',\n",
       "  'ProofType': 'PoW',\n",
       "  'SortOrder': '1',\n",
       "  'TotalCoinSupply': '21000000',\n",
       "  'TotalCoinsFreeFloat': 'N/A',\n",
       "  'Url': '/coins/btc/overview'},\n",
       " 'ETH': {'Algorithm': 'Ethash',\n",
       "  'CoinName': 'Ethereum ',\n",
       "  'FullName': 'Ethereum  (ETH)',\n",
       "  'FullyPremined': '0',\n",
       "  'Id': '7605',\n",
       "  'ImageUrl': '/media/20646/eth.png',\n",
       "  'Name': 'ETH',\n",
       "  'PreMinedValue': 'N/A',\n",
       "  'ProofType': 'PoW',\n",
       "  'SortOrder': '2',\n",
       "  'TotalCoinSupply': '0',\n",
       "  'TotalCoinsFreeFloat': 'N/A',\n",
       "  'Url': '/coins/eth/overview'}}"
      ]
     },
     "execution_count": 2,
     "metadata": {},
     "output_type": "execute_result"
    }
   ],
   "source": [
    "coin.get_coin_list(coins=[\"BTC\", \"ETH\"])"
   ]
  },
  {
   "cell_type": "markdown",
   "metadata": {
    "deletable": true,
    "editable": true
   },
   "source": [
    "*Example 2:*\n",
    "\n",
    "Return information for all the coins available on Cryptocompare and print out ten of their symbols."
   ]
  },
  {
   "cell_type": "code",
   "execution_count": 3,
   "metadata": {
    "collapsed": false,
    "deletable": true,
    "editable": true
   },
   "outputs": [
    {
     "data": {
      "text/plain": [
       "['BOSS', 'EOS', 'CHC', 'GAY', 'APT', 'DEEP', 'SCOT', 'HUGE', 'NXS', 'GCR']"
      ]
     },
     "execution_count": 3,
     "metadata": {},
     "output_type": "execute_result"
    }
   ],
   "source": [
    "coin_data = coin.get_coin_list()\n",
    "symbols = list(coin_data.keys())[:10]\n",
    "symbols"
   ]
  },
  {
   "cell_type": "markdown",
   "metadata": {
    "collapsed": true,
    "deletable": true,
    "editable": true
   },
   "source": [
    "---\n",
    "\n",
    "#### get_coin_snapshot\n",
    "\n",
    "```python\n",
    "get_coin_snapshot(fsym, tsym)\n",
    "```\n",
    "\n",
    "Get blockchain information, aggregated data as well as data for the individual exchanges available for the specified currency pair.\n",
    "\n",
    "*Arguments:*\n",
    "\n",
    "* `fsym`: FROM symbol.\n",
    "* `tsym`: TO symbol. Blockchain information will only be returned if this parameter is a fiat currency.\n",
    "\n",
    "*Returns:*\n",
    "\n",
    "The function returns a dictionairy containing blockain as well as trading information from the different exchanges were the specified currency pair is available.\n",
    "\n",
    "```\n",
    "{'AggregatedData': dict,\n",
    " 'Algorithm': ...,\n",
    " 'BlockNumber': ...,\n",
    " 'BlockReward': ...,\n",
    " 'Exchanges': [dict1, dict2, ...],\n",
    " 'NetHashesPerSecond': ...,\n",
    " 'ProofType': ...,\n",
    " 'TotalCoinsMined': ...}\n",
    " \n",
    "dict = {'FLAGS': ...,\n",
    "        'FROMSYMBOL': ...,\n",
    "        'HIGH24HOUR': ...,\n",
    "        'LASTMARKET': ...,\n",
    "        'LASTTRADEID': ...,\n",
    "        'LASTUPDATE': ...,\n",
    "        'LASTVOLUME': ...,\n",
    "        'LASTVOLUMETO': ...,\n",
    "        'LOW24HOUR': ...,\n",
    "        'MARKET': ...,\n",
    "        'OPEN24HOUR': ...,\n",
    "        'PRICE': ...,\n",
    "        'TOSYMBOL': ...,\n",
    "        'TYPE': ...,\n",
    "        'VOLUME24HOUR': ...,\n",
    "        'VOLUME24HOURTO': ...}\n",
    "```\n",
    "\n",
    "*Example 1:*\n",
    "\n",
    "Get all the exchanges were the LTC/EUR currency pair is available for trading."
   ]
  },
  {
   "cell_type": "code",
   "execution_count": 4,
   "metadata": {
    "collapsed": false,
    "deletable": true,
    "editable": true,
    "scrolled": false
   },
   "outputs": [
    {
     "data": {
      "text/plain": [
       "['BitSquare',\n",
       " 'Tidex',\n",
       " 'HitBTC',\n",
       " 'Kraken',\n",
       " 'CCEDK',\n",
       " 'Yacuna',\n",
       " 'BTCE',\n",
       " 'TheRockTrading',\n",
       " 'Bitstamp',\n",
       " 'Cexio',\n",
       " 'Exmo',\n",
       " 'BitBay',\n",
       " 'Coinbase']"
      ]
     },
     "execution_count": 4,
     "metadata": {},
     "output_type": "execute_result"
    }
   ],
   "source": [
    "coin_data = coin.get_coin_snapshot(\"LTC\", \"EUR\")\n",
    "exchanges = [e['MARKET'] for e in coin_data['Exchanges']]\n",
    "exchanges"
   ]
  },
  {
   "cell_type": "markdown",
   "metadata": {
    "deletable": true,
    "editable": true
   },
   "source": [
    "*Example 2:*\n",
    "\n",
    "Get the aggregated trading volume across all the available exchanges for the NEO/BTC pair. "
   ]
  },
  {
   "cell_type": "code",
   "execution_count": 5,
   "metadata": {
    "collapsed": false,
    "deletable": true,
    "editable": true
   },
   "outputs": [
    {
     "data": {
      "text/plain": [
       "2402094.313135109"
      ]
     },
     "execution_count": 5,
     "metadata": {},
     "output_type": "execute_result"
    }
   ],
   "source": [
    "coin_data = coin.get_coin_snapshot(\"NEO\", \"BTC\")\n",
    "volume = float(coin_data['AggregatedData']['VOLUME24HOUR'])\n",
    "volume"
   ]
  },
  {
   "cell_type": "markdown",
   "metadata": {
    "collapsed": true,
    "deletable": true,
    "editable": true
   },
   "source": [
    "---\n",
    "\n",
    "### price.py\n",
    "\n",
    "To access these functions, you can import them in the following way:"
   ]
  },
  {
   "cell_type": "code",
   "execution_count": 6,
   "metadata": {
    "collapsed": true
   },
   "outputs": [],
   "source": [
    "from cryptocompy import price"
   ]
  },
  {
   "cell_type": "markdown",
   "metadata": {},
   "source": [
    "---\n",
    "\n",
    "#### get_current_price\n",
    "\n",
    "```python\n",
    "get_current_price(fsyms, tsyms, e='all', try_conversion=True, full=False, format='raw')\n",
    "```\n",
    "\n",
    "Get latest trading price or full trading information in display or raw format for the specified FROM/TO currency pairs.\n",
    "\n",
    "*Arguments:*\n",
    "\n",
    "* `fsyms`: Single string or list of FROM symbols.\n",
    "* `tsyms`: Single string or list of TO symbols.\n",
    "* `e`: Default returns average price across all exchanges. Can be set to the name of a single exchange.\n",
    "* `try_conversion`: If the crypto does not trade directly into the toSymbol requested, BTC will be used for conversion. If set to false, it will try to get values without using any conversion at all.\n",
    "* `full`: Default of False returns only the latest price.\t\n",
    "* `format`: Default returns the 'RAW' format. Can be changed to 'DISPLAY' format.\n",
    "\n",
    "*Returns:*\n",
    "\n",
    "Returns a dictionary containing the latest price pairs if full is set to false:\n",
    "\n",
    "```\n",
    "{fsym1: {tsym1: ..., tsym2:..., ...},\n",
    " fsym2: {...},\n",
    " ...}\n",
    "```\n",
    "\n",
    "or full trading info dictionaries for all the price pairs in the other case:\n",
    "\n",
    "```\n",
    "{fsym1: {tsym1: {'CHANGE24HOUR': ...,\n",
    "                 'CHANGEPCT24HOUR': ...,\n",
    "                 'FLAGS': ...,\n",
    "                 'FROMSYMBOL': ...,\n",
    "                 'HIGH24HOUR': ...,\n",
    "                 'LASTMARKET': ...,\n",
    "                 'LASTTRADEID': ...,\n",
    "                 'LASTUPDATE': ..., \n",
    "                 'LASTVOLUME': ...,\n",
    "                 'LASTVOLUMETO': ...,\n",
    "                 'LOW24HOUR': ...,\n",
    "                 'MARKET' ...,\n",
    "                 'MKTCAP': ...,\n",
    "                 'OPEN24HOUR': ...,\n",
    "                 'PRICE': ...,\n",
    "                 'SUPPLY': ...,\n",
    "                 'TOSYMBOL': ...,\n",
    "                 'TYPE': ..., \n",
    "                 'VOLUME24HOUR': ...,\n",
    "                 'VOLUME24HOURTO': ...},\n",
    "         tsym2: ..., ...},\n",
    "fsym2: {...},\n",
    "...}\n",
    "```\n",
    "\n",
    "*Example 1:*\n",
    "\n",
    "Get the current BTC prices averaged across all exchanges in EUR, USD and ETH."
   ]
  },
  {
   "cell_type": "code",
   "execution_count": 7,
   "metadata": {
    "collapsed": false,
    "deletable": true,
    "editable": true
   },
   "outputs": [
    {
     "data": {
      "text/plain": [
       "{'BTC': {'ETH': 13.49, 'EUR': 3361.68, 'USD': 3962.38}}"
      ]
     },
     "execution_count": 7,
     "metadata": {},
     "output_type": "execute_result"
    }
   ],
   "source": [
    "price.get_current_price(\"BTC\", [\"EUR\", \"USD\", \"ETH\"])"
   ]
  },
  {
   "cell_type": "markdown",
   "metadata": {
    "deletable": true,
    "editable": true
   },
   "source": [
    "*Example 2:*\n",
    "\n",
    "Get the current BTC and ETH prices in EUR and USD."
   ]
  },
  {
   "cell_type": "code",
   "execution_count": 8,
   "metadata": {
    "collapsed": false,
    "deletable": true,
    "editable": true
   },
   "outputs": [
    {
     "data": {
      "text/plain": [
       "{'BTC': {'EUR': 3361.62, 'USD': 3962.16},\n",
       " 'ETH': {'EUR': 248.04, 'USD': 293.32}}"
      ]
     },
     "execution_count": 8,
     "metadata": {},
     "output_type": "execute_result"
    }
   ],
   "source": [
    "price.get_current_price([\"ETH\", \"BTC\"], [\"EUR\", \"USD\"])"
   ]
  },
  {
   "cell_type": "markdown",
   "metadata": {
    "deletable": true,
    "editable": true
   },
   "source": [
    "*Example 3:*\n",
    "\n",
    "Get the current ETH trading price in EUR from Kraken. "
   ]
  },
  {
   "cell_type": "code",
   "execution_count": 9,
   "metadata": {
    "collapsed": false,
    "deletable": true,
    "editable": true
   },
   "outputs": [
    {
     "data": {
      "text/plain": [
       "{'ETH': {'EUR': 247.78}}"
      ]
     },
     "execution_count": 9,
     "metadata": {},
     "output_type": "execute_result"
    }
   ],
   "source": [
    "price.get_current_price(\"ETH\", \"EUR\", e=\"Kraken\")"
   ]
  },
  {
   "cell_type": "markdown",
   "metadata": {
    "deletable": true,
    "editable": true
   },
   "source": [
    "*Example 4:*\n",
    "\n",
    "Get the current trading information about the ETH/EUR and ETH/BTC markets."
   ]
  },
  {
   "cell_type": "code",
   "execution_count": 10,
   "metadata": {
    "collapsed": false,
    "deletable": true,
    "editable": true
   },
   "outputs": [
    {
     "data": {
      "text/plain": [
       "{'ETH': {'BTC': {'CHANGE24HOUR': -0.002250000000000002,\n",
       "   'CHANGEPCT24HOUR': -2.945411703102503,\n",
       "   'FLAGS': '4',\n",
       "   'FROMSYMBOL': 'ETH',\n",
       "   'HIGH24HOUR': 0.07657,\n",
       "   'LASTMARKET': 'HitBTC',\n",
       "   'LASTTRADEID': 39464478,\n",
       "   'LASTUPDATE': 1506430531,\n",
       "   'LASTVOLUME': 1.168,\n",
       "   'LASTVOLUMETO': 0.08631987199999999,\n",
       "   'LOW24HOUR': 0.07397,\n",
       "   'MARKET': 'CCCAGG',\n",
       "   'MKTCAP': 7030474.546815192,\n",
       "   'OPEN24HOUR': 0.07639,\n",
       "   'PRICE': 0.07414,\n",
       "   'SUPPLY': 94827010.3428,\n",
       "   'TOSYMBOL': 'BTC',\n",
       "   'TYPE': '5',\n",
       "   'VOLUME24HOUR': 304207.36878715,\n",
       "   'VOLUME24HOURTO': 22841.949823297473},\n",
       "  'EUR': {'CHANGE24HOUR': 4.6200000000000045,\n",
       "   'CHANGEPCT24HOUR': 1.8977982254354275,\n",
       "   'FLAGS': '4',\n",
       "   'FROMSYMBOL': 'ETH',\n",
       "   'HIGH24HOUR': 251.35,\n",
       "   'LASTMARKET': 'Kraken',\n",
       "   'LASTTRADEID': 1506430533.8385,\n",
       "   'LASTUPDATE': 1506430533,\n",
       "   'LASTVOLUME': 2,\n",
       "   'LASTVOLUMETO': 495.6,\n",
       "   'LOW24HOUR': 241.61,\n",
       "   'MARKET': 'CCCAGG',\n",
       "   'MKTCAP': 23522788185.63497,\n",
       "   'OPEN24HOUR': 243.44,\n",
       "   'PRICE': 248.06,\n",
       "   'SUPPLY': 94827010.3428,\n",
       "   'TOSYMBOL': 'EUR',\n",
       "   'TYPE': '5',\n",
       "   'VOLUME24HOUR': 96101.47060460004,\n",
       "   'VOLUME24HOURTO': 23793339.85357493}}}"
      ]
     },
     "execution_count": 10,
     "metadata": {},
     "output_type": "execute_result"
    }
   ],
   "source": [
    "price.get_current_price(\"ETH\", [\"EUR\", \"BTC\"], full=True)"
   ]
  },
  {
   "cell_type": "markdown",
   "metadata": {
    "deletable": true,
    "editable": true
   },
   "source": [
    "*Example 5:*\n",
    "\n",
    "Get the current trading information about the ETH/EUR and ETH/BTC markets in 'DISPLAY' format."
   ]
  },
  {
   "cell_type": "code",
   "execution_count": 12,
   "metadata": {
    "collapsed": false,
    "deletable": true,
    "editable": true
   },
   "outputs": [
    {
     "data": {
      "text/plain": [
       "{'ETH': {'BTC': {'CHANGE24HOUR': 'Ƀ -0.0022',\n",
       "   'CHANGEPCT24HOUR': '-2.93',\n",
       "   'FROMSYMBOL': 'Ξ',\n",
       "   'HIGH24HOUR': 'Ƀ 0.07657',\n",
       "   'LASTMARKET': 'BitTrex',\n",
       "   'LASTTRADEID': 116252205,\n",
       "   'LASTUPDATE': 'Just now',\n",
       "   'LASTVOLUME': 'Ξ 1',\n",
       "   'LASTVOLUMETO': 'Ƀ 0.07420',\n",
       "   'LOW24HOUR': 'Ƀ 0.07397',\n",
       "   'MARKET': 'CryptoCompare Index',\n",
       "   'MKTCAP': 'Ƀ 7,031.45 K',\n",
       "   'OPEN24HOUR': 'Ƀ 0.07639',\n",
       "   'PRICE': 'Ƀ 0.07415',\n",
       "   'SUPPLY': 'Ξ 94,827,318.3',\n",
       "   'TOSYMBOL': 'Ƀ',\n",
       "   'VOLUME24HOUR': 'Ξ 304,262.6',\n",
       "   'VOLUME24HOURTO': 'Ƀ 22,846'},\n",
       "  'EUR': {'CHANGE24HOUR': '€ 4.68',\n",
       "   'CHANGEPCT24HOUR': '1.92',\n",
       "   'FROMSYMBOL': 'Ξ',\n",
       "   'HIGH24HOUR': '€ 251.35',\n",
       "   'LASTMARKET': 'Gatecoin',\n",
       "   'LASTTRADEID': 46923452,\n",
       "   'LASTUPDATE': 'Just now',\n",
       "   'LASTVOLUME': 'Ξ 13.29',\n",
       "   'LASTVOLUMETO': '€ 3,304.96',\n",
       "   'LOW24HOUR': '€ 241.61',\n",
       "   'MARKET': 'CryptoCompare Index',\n",
       "   'MKTCAP': '€ 23.53 B',\n",
       "   'OPEN24HOUR': '€ 243.44',\n",
       "   'PRICE': '€ 248.12',\n",
       "   'SUPPLY': 'Ξ 94,827,318.3',\n",
       "   'TOSYMBOL': '€',\n",
       "   'VOLUME24HOUR': 'Ξ 96,114.8',\n",
       "   'VOLUME24HOURTO': '€ 23,796,644.8'}}}"
      ]
     },
     "execution_count": 12,
     "metadata": {},
     "output_type": "execute_result"
    }
   ],
   "source": [
    "price.get_current_price(\"ETH\", [\"EUR\", \"BTC\"], full=True, format=\"display\")"
   ]
  },
  {
   "cell_type": "markdown",
   "metadata": {
    "collapsed": true,
    "deletable": true,
    "editable": true
   },
   "source": [
    "---\n",
    "\n",
    "#### get_current_trading_info\n",
    "\n",
    "```python\n",
    "get_current_trading_info(fsym, tsym, markets='all', try_conversion=True, format='raw)\n",
    "```\n",
    "\n",
    "Get the latest trading info of the requested pair as a volume weighted average across the markets requested.\n",
    "\n",
    "*Arguments:*\n",
    "\n",
    "* `fsym`: FROM symbol.\n",
    "* `tsym`: TO symbol.\n",
    "* `markets`: List containing the market names. Default returns average across all markets. If only a single market is specified, the function will also return the full aggregate.\n",
    "* `try_conversion`: If the crypto does not trade directly into the toSymbol requested, BTC will be used for conversion. If set to false, it will try to get values without using any conversion at all.\n",
    "* `format`: Default returns the 'RAW' format. Can be set to 'DISPLAY' format.\n",
    "\n",
    "*Returns:*\n",
    "\n",
    "The returned latest average trading information dictionary contains the following key value pairs:\n",
    "\n",
    "```\n",
    "{'PRICE': ...,\n",
    "'LASTVOLUMETO': ...,\n",
    "'TOSYMBOL': ...,\n",
    "'LOW24HOUR': ...,\n",
    "'CHANGE24HOUR': ...,\n",
    "'FROMSYMBOL': ...,\n",
    "'FLAGS': ...,\n",
    "'VOLUME24HOUR': ...,\n",
    "'HIGH24HOUR': ...,\n",
    "'LASTUPDATE': ...,\n",
    "'VOLUME24HOURT': ...,\n",
    "'LASTMARKET': ...,\n",
    "'CHANGEPCT24HOUR': ...,\n",
    "'OPEN24HOUR': ...,\n",
    "'MARKET': ...,\n",
    "'LASTTRADEID': ...,\n",
    "'LASTVOLUME': ...}\n",
    "```\n",
    "\n",
    "*Example 1:*\n",
    "\n",
    "Get current trading information about the BTC/USD pair across all markets."
   ]
  },
  {
   "cell_type": "code",
   "execution_count": 13,
   "metadata": {
    "collapsed": false,
    "deletable": true,
    "editable": true
   },
   "outputs": [
    {
     "data": {
      "text/plain": [
       "{'BTC': {'USD': {'CHANGE24HOUR': 178.78999999999996,\n",
       "   'CHANGEPCT24HOUR': 4.725418783268755,\n",
       "   'FLAGS': 0,\n",
       "   'FROMSYMBOL': 'BTC',\n",
       "   'HIGH24HOUR': 3993.76,\n",
       "   'LASTMARKET': 'CCCAGG',\n",
       "   'LASTTRADEID': 21336459,\n",
       "   'LASTUPDATE': 1506430583,\n",
       "   'LASTVOLUME': 1.513e-05,\n",
       "   'LASTVOLUMETO': 0.05983915,\n",
       "   'LOW24HOUR': 3772.63,\n",
       "   'MARKET': 'CUSTOMAGG',\n",
       "   'OPEN24HOUR': 3783.58,\n",
       "   'PRICE': 3962.37,\n",
       "   'TOSYMBOL': 'USD',\n",
       "   'VOLUME24HOUR': 98845.786925876,\n",
       "   'VOLUME24HOURTO': 387191231.031879}}}"
      ]
     },
     "execution_count": 13,
     "metadata": {},
     "output_type": "execute_result"
    }
   ],
   "source": [
    "price.get_current_trading_info(\"BTC\", \"USD\")"
   ]
  },
  {
   "cell_type": "markdown",
   "metadata": {
    "deletable": true,
    "editable": true
   },
   "source": [
    "*Example 2:*\n",
    "\n",
    "Obtain the trading information aggregated for Poloniex, Kraken and Coinbase in display format."
   ]
  },
  {
   "cell_type": "code",
   "execution_count": 14,
   "metadata": {
    "collapsed": false,
    "deletable": true,
    "editable": true
   },
   "outputs": [
    {
     "data": {
      "text/plain": [
       "{'BTC': {'USD': {'CHANGE24HOUR': '$ 179.75',\n",
       "   'CHANGEPCT24HOUR': '4.76',\n",
       "   'FROMSYMBOL': 'Ƀ',\n",
       "   'HIGH24HOUR': '$ 3,990.9',\n",
       "   'LASTMARKET': 'Coinbase',\n",
       "   'LASTTRADEID': 21336465,\n",
       "   'LASTUPDATE': 'Just now',\n",
       "   'LASTVOLUME': 'Ƀ 0.00000252',\n",
       "   'LASTVOLUMETO': '$ 0.009967',\n",
       "   'LOW24HOUR': '$ 3,765.99',\n",
       "   'MARKET': 'CUSTOMAGG',\n",
       "   'OPEN24HOUR': '$ 3,776.3',\n",
       "   'PRICE': '$ 3,956.05',\n",
       "   'TOSYMBOL': '$',\n",
       "   'VOLUME24HOUR': 'Ƀ 20,430.5',\n",
       "   'VOLUME24HOURTO': '$ 79,891,717.1'}}}"
      ]
     },
     "execution_count": 14,
     "metadata": {},
     "output_type": "execute_result"
    }
   ],
   "source": [
    "price.get_current_trading_info(\"BTC\", \"USD\", markets=[\"Poloniex\", \"Kraken\", \"Coinbase\"], format='display')"
   ]
  },
  {
   "cell_type": "markdown",
   "metadata": {
    "deletable": true,
    "editable": true
   },
   "source": [
    "---\n",
    "\n",
    "#### get_day_average_price\n",
    "\n",
    "```python\n",
    "get_day_average_price(fsym, tsym, e='all', try_conversion=True, avg_type='HourVWAP', utc_hour_diff=0)\n",
    "```\n",
    "\n",
    "Get the current days average price of a currency pair.\n",
    "\n",
    "*Arguments:*\n",
    "\n",
    "* `fsym`: FROM symbol.\n",
    "* `tsym`: TO symbol.\n",
    "* `e`: Default returns average price across all exchanges. Can be set to the name of a single exchange.\n",
    "* `try_conversion`: If the crypto does not trade directly into the toSymbol requested, BTC will be used for conversion. If set to false, it will try to get values without using any conversion at all.\n",
    "* `avg_type`: 'HourVWAP' returns a volume weighted average of the hourly close price. The other option 'MidHighLow' gives the average between the 24 hour high and low.\n",
    "* `utc_hour_diff`: Pass hour difference to UTC for different time zone.\n",
    "\n",
    "*Returns:*\n",
    "\n",
    "Returns a price dictionairy containing the current days average price as float.\n",
    "\n",
    "```\n",
    "{fsym: {tsym: price}}\n",
    "```\n",
    "\n",
    "*Example 1:*\n",
    "\n",
    "Get the current days ETH/EUR average price across all exchanges."
   ]
  },
  {
   "cell_type": "code",
   "execution_count": 15,
   "metadata": {
    "collapsed": false,
    "deletable": true,
    "editable": true
   },
   "outputs": [
    {
     "data": {
      "text/plain": [
       "{'ETH': {'EUR': 247.4}}"
      ]
     },
     "execution_count": 15,
     "metadata": {},
     "output_type": "execute_result"
    }
   ],
   "source": [
    "price.get_day_average_price(\"ETH\", \"EUR\")"
   ]
  },
  {
   "cell_type": "markdown",
   "metadata": {
    "deletable": true,
    "editable": true
   },
   "source": [
    "*Example 2:*\n",
    "\n",
    "Get the MidHighLow price for the DGB/XLM pair in the UTC-8 time zone. "
   ]
  },
  {
   "cell_type": "code",
   "execution_count": 16,
   "metadata": {
    "collapsed": false,
    "deletable": true,
    "editable": true
   },
   "outputs": [
    {
     "data": {
      "text/plain": [
       "{'DGB': {'XLM': 1.17}}"
      ]
     },
     "execution_count": 16,
     "metadata": {},
     "output_type": "execute_result"
    }
   ],
   "source": [
    "price.get_day_average_price(\"DGB\", \"XLM\", avg_type=\"MidHighLow\", utc_hour_diff=-8)"
   ]
  },
  {
   "cell_type": "markdown",
   "metadata": {
    "deletable": true,
    "editable": true
   },
   "source": [
    "---\n",
    "\n",
    "#### get_historical_eod_price\n",
    "\n",
    "```python\n",
    "get_historical_eod_price(fsym, tsyms, date, e='all', try_conversion=True)\n",
    "```\n",
    "\n",
    "Get end of day price for cryptocurrency in any other currency for the requested timestamp.\n",
    "\n",
    "*Arguments:*\n",
    "\n",
    "* `fsym`: FROM symbol.\n",
    "* `tsyms`: Single string or list of TO symbols.\n",
    "* `date`: Date as string with these formats: \"Y-m-d\", \"Y-m-d H-M-S\".Date as string with this format: \"Y-m-d H-M-S\".\n",
    "* `e`: Default returns average price across all exchanges. Can be set to the name of a single exchange.\n",
    "* `try_conversion`: If the crypto does not trade directly into the toSymbol requested, BTC will be used for conversion. If set to false, it will try to get values without using any conversion at all.\n",
    "\n",
    "*Returns:*\n",
    "\n",
    "Returns a dictionary containing the end of day price pairs for the provided date.\n",
    "\n",
    "```\n",
    "{fsym: {tsym1: ..., tsym2: ..., ...}}\n",
    "```\n",
    "\n",
    "*Example 1:*\n",
    "\n",
    "Get the end of day price from April 20, 2017 for DASH in USD."
   ]
  },
  {
   "cell_type": "code",
   "execution_count": 17,
   "metadata": {
    "collapsed": false,
    "deletable": true,
    "editable": true
   },
   "outputs": [
    {
     "data": {
      "text/plain": [
       "{'DASH': {'USD': 72.34}}"
      ]
     },
     "execution_count": 17,
     "metadata": {},
     "output_type": "execute_result"
    }
   ],
   "source": [
    "price.get_historical_eod_price(\"DASH\", \"USD\", \"2017-04-20 00:00:00\")"
   ]
  },
  {
   "cell_type": "markdown",
   "metadata": {
    "deletable": true,
    "editable": true
   },
   "source": [
    "*Example 2:*\n",
    "\n",
    "Obtain the end of day price of LTC in BTC and EUR from Kraken on the 23rd of July in 2017."
   ]
  },
  {
   "cell_type": "code",
   "execution_count": 18,
   "metadata": {
    "collapsed": false,
    "deletable": true,
    "editable": true
   },
   "outputs": [
    {
     "data": {
      "text/plain": [
       "{'LTC': {'BTC': 0.0165, 'EUR': 40.03}}"
      ]
     },
     "execution_count": 18,
     "metadata": {},
     "output_type": "execute_result"
    }
   ],
   "source": [
    "price.get_historical_eod_price(\"LTC\", [\"BTC\", \"EUR\"], \"2017-07-23\", e=\"Kraken\")"
   ]
  },
  {
   "cell_type": "markdown",
   "metadata": {
    "deletable": true,
    "editable": true
   },
   "source": [
    "---\n",
    "\n",
    "#### get_historical_data\n",
    "\n",
    "```python\n",
    "get_historical_data(fsym, tsym, freq, info='full', e='all', try_conversion=True, aggregate=1, \n",
    "                    limit=1440, to_ts=False)\n",
    "```\n",
    "\n",
    "Get minute-by-minute historical price and volume information for the requested currency pair. Available data is limited to the last 7 days.\n",
    "\n",
    "*Arguments:*\n",
    "\n",
    "* `fsym`: FROM symbol.\n",
    "* `tsym`: TO symbol.\n",
    "* `info`: Select price or volume information to return. Default of 'full' returns all of them. Can be set to 'high', 'low', 'open', 'close', 'volumefrom', and 'volumeto' or a list containing several of those values.\n",
    "* `e`: Default returns average price across all exchanges. Can be set to the name of a single exchange.\n",
    "* `try_conversion`: If the crypto does not trade directly into the toSymbol requested, BTC will be used for conversion. If set to false, it will try to get values without using any conversion at all.\n",
    "* `aggregate`: Aggregates the minute prices into bins of the specified size.\n",
    "* `limit`: Number of minute prices. The limit settings depend on the freq selected. Using aggregate reduces the maximum number of points that can be returned by a factor equal to the chosen bin size.\n",
    "               minute: default = 1440, min = 1, max = 2000\n",
    "               hour: default = 168, min = 1, max 2000\n",
    "               day: default = 30, min = 1, max 2000\t\n",
    "\n",
    "*Returns:*\n",
    "\n",
    "List of dictionairies containing the price and volume information for each requested tick.\n",
    "\n",
    "```\n",
    "[{'time': ..., 'close': ..., 'high': ..., 'low': ..., 'open': ...,\n",
    "  'volumefrom': ..., 'volumeto': ...},\n",
    "  {...},\n",
    " ...]\n",
    "```\n",
    "\n",
    "*Example 1:*\n",
    "\n",
    "Get full price and volume data for the last five 5-minute segments."
   ]
  },
  {
   "cell_type": "code",
   "execution_count": 19,
   "metadata": {
    "collapsed": false,
    "deletable": true,
    "editable": true,
    "scrolled": false
   },
   "outputs": [
    {
     "data": {
      "text/plain": [
       "[{'close': 3968.35,\n",
       "  'high': 3970.96,\n",
       "  'low': 3966.42,\n",
       "  'open': 3969,\n",
       "  'time': '2017-09-26 14:30:00',\n",
       "  'volumefrom': 180.86,\n",
       "  'volumeto': 718660.5},\n",
       " {'close': 3963.65,\n",
       "  'high': 3968.88,\n",
       "  'low': 3962.33,\n",
       "  'open': 3968.35,\n",
       "  'time': '2017-09-26 14:35:00',\n",
       "  'volumefrom': 218.48000000000002,\n",
       "  'volumeto': 867707.4900000001},\n",
       " {'close': 3968.23,\n",
       "  'high': 3969.23,\n",
       "  'low': 3961.76,\n",
       "  'open': 3963.65,\n",
       "  'time': '2017-09-26 14:40:00',\n",
       "  'volumefrom': 318.74,\n",
       "  'volumeto': 1265744.9000000001},\n",
       " {'close': 3967.88,\n",
       "  'high': 3970.84,\n",
       "  'low': 3966.82,\n",
       "  'open': 3968.23,\n",
       "  'time': '2017-09-26 14:45:00',\n",
       "  'volumefrom': 214.83999999999997,\n",
       "  'volumeto': 856669.6699999999},\n",
       " {'close': 3961.98,\n",
       "  'high': 3967.88,\n",
       "  'low': 3961.22,\n",
       "  'open': 3967.88,\n",
       "  'time': '2017-09-26 14:50:00',\n",
       "  'volumefrom': 338.34,\n",
       "  'volumeto': 1344325.82},\n",
       " {'close': 3961.65,\n",
       "  'high': 3962.84,\n",
       "  'low': 3961.57,\n",
       "  'open': 3961.98,\n",
       "  'time': '2017-09-26 14:55:00',\n",
       "  'volumefrom': 101.10000000000001,\n",
       "  'volumeto': 400661.15}]"
      ]
     },
     "execution_count": 19,
     "metadata": {},
     "output_type": "execute_result"
    }
   ],
   "source": [
    "price.get_historical_data('BTC', 'USD', 'minute', aggregate=5, limit=5)"
   ]
  },
  {
   "cell_type": "markdown",
   "metadata": {
    "deletable": true,
    "editable": true
   },
   "source": [
    "*Example 2:*\n",
    "\n",
    "Get the ETH/USD trading volume in ETH for the last ten minutes."
   ]
  },
  {
   "cell_type": "code",
   "execution_count": 20,
   "metadata": {
    "collapsed": false,
    "deletable": true,
    "editable": true
   },
   "outputs": [
    {
     "data": {
      "text/plain": [
       "[{'time': '2017-09-26 14:50:00', 'volumefrom': 102.89},\n",
       " {'time': '2017-09-26 14:51:00', 'volumefrom': 323.75},\n",
       " {'time': '2017-09-26 14:52:00', 'volumefrom': 113.72},\n",
       " {'time': '2017-09-26 14:53:00', 'volumefrom': 79.65},\n",
       " {'time': '2017-09-26 14:54:00', 'volumefrom': 136.11},\n",
       " {'time': '2017-09-26 14:55:00', 'volumefrom': 45.03},\n",
       " {'time': '2017-09-26 14:56:00', 'volumefrom': 147.95},\n",
       " {'time': '2017-09-26 14:57:00', 'volumefrom': 169.3},\n",
       " {'time': '2017-09-26 14:58:00', 'volumefrom': 69.73},\n",
       " {'time': '2017-09-26 14:59:00', 'volumefrom': 18.81},\n",
       " {'time': '2017-09-26 15:00:00', 'volumefrom': 0}]"
      ]
     },
     "execution_count": 20,
     "metadata": {},
     "output_type": "execute_result"
    }
   ],
   "source": [
    "price.get_historical_data('ETH', 'USD', 'minute', info='volumefrom', aggregate=1, limit=10)"
   ]
  },
  {
   "cell_type": "markdown",
   "metadata": {
    "deletable": true,
    "editable": true
   },
   "source": [
    "*Example 3:*\n",
    "\n",
    "Get the XRP closing prices in USD for the last ten days."
   ]
  },
  {
   "cell_type": "code",
   "execution_count": 21,
   "metadata": {
    "collapsed": false,
    "deletable": true,
    "editable": true
   },
   "outputs": [
    {
     "data": {
      "text/plain": [
       "[{'close': 0.1828, 'time': '2017-09-16 02:00:00'},\n",
       " {'close': 0.1814, 'time': '2017-09-17 02:00:00'},\n",
       " {'close': 0.1933, 'time': '2017-09-18 02:00:00'},\n",
       " {'close': 0.1848, 'time': '2017-09-19 02:00:00'},\n",
       " {'close': 0.1817, 'time': '2017-09-20 02:00:00'},\n",
       " {'close': 0.171, 'time': '2017-09-21 02:00:00'},\n",
       " {'close': 0.1728, 'time': '2017-09-22 02:00:00'},\n",
       " {'close': 0.1791, 'time': '2017-09-23 02:00:00'},\n",
       " {'close': 0.1757, 'time': '2017-09-24 02:00:00'},\n",
       " {'close': 0.1846, 'time': '2017-09-25 02:00:00'},\n",
       " {'close': 0.186, 'time': '2017-09-26 02:00:00'}]"
      ]
     },
     "execution_count": 21,
     "metadata": {},
     "output_type": "execute_result"
    }
   ],
   "source": [
    "price.get_historical_data('XRP', 'USD', 'day', info='close', aggregate=1, limit=10)"
   ]
  },
  {
   "cell_type": "markdown",
   "metadata": {
    "collapsed": true,
    "deletable": true,
    "editable": true
   },
   "source": [
    "---\n",
    "\n",
    "### mining.py\n",
    "\n",
    "To access these functions, you can import them in the following way:"
   ]
  },
  {
   "cell_type": "code",
   "execution_count": 1,
   "metadata": {
    "collapsed": true
   },
   "outputs": [],
   "source": [
    "from cryptocompy import mining"
   ]
  },
  {
   "cell_type": "markdown",
   "metadata": {},
   "source": [
    "---\n",
    "\n",
    "#### get_mining_contracts\n",
    "\n",
    "```python\n",
    "get_mining_contracts()\n",
    "```\n",
    "\n",
    "Get all the mining contracts information available.\n",
    "\n",
    "*Returns:*\n",
    "\n",
    "This function returns two major dictionaries. The first one contains information about the coins for which mining contracts data is available.\n",
    "\n",
    "`coin_data`: \n",
    "\n",
    "```\n",
    "{symbol1: {'BlockNumber': ...,\n",
    "           'BlockReward': ...,\n",
    "           'BlockRewardReduction': ...,\n",
    "           'BlockTime': ...,\n",
    "           'DifficultyAdjustment': ...,\n",
    "           'NetHashesPerSecond': ...,\n",
    "           'PreviousTotalCoinsMined': ...,\n",
    "           'PriceUSD': ...,\n",
    "           'Symbol': ...,\n",
    "           'TotalCoinsMined': ...},\n",
    " symbol2: {...},\n",
    " ...}\n",
    "```\n",
    "\n",
    "The other one contains all the available mining contracts.\n",
    "\n",
    "`mining_data`: \n",
    "\n",
    "```\n",
    "{id1: {'AffiliateURL': ...,\n",
    "       'Algorithm': ...,\n",
    "       'Company': ...,\n",
    "       'ContractLength': ...,\n",
    "       'Cost': ...,\n",
    "       'CurrenciesAvailable': ...,\n",
    "       'CurrenciesAvailableLogo': ...,\n",
    "       'CurrenciesAvailableName': ...,\n",
    "       'Currency': ...,\n",
    "       'FeePercentage': ...,\n",
    "       'FeeValue': ...,\n",
    "       'FeeValueCurrency': ...,\n",
    "       'HashesPerSecond': ...,\n",
    "       'Id': id1,\n",
    "       'LogoUrl': ...,\n",
    "       'Name': ...,\n",
    "       'ParentId': ...,\n",
    "       'Recommended': ...,\n",
    "       'Sponsored': ...,\n",
    "       'Url': ...},\n",
    " id2: {...},\n",
    " ...}\n",
    "\n",
    "```\n",
    "\n",
    "*Example 1:*\n",
    "\n",
    "Get the symbols of all the coins for which mining contracts information is available."
   ]
  },
  {
   "cell_type": "code",
   "execution_count": 4,
   "metadata": {
    "collapsed": false,
    "scrolled": false
   },
   "outputs": [
    {
     "data": {
      "text/plain": [
       "['BCH', 'BTC', 'DASH', 'ETC', 'ETH', 'LTC', 'XMR', 'ZEC']"
      ]
     },
     "execution_count": 4,
     "metadata": {},
     "output_type": "execute_result"
    }
   ],
   "source": [
    "coin_data, _ = mining.get_mining_contracts()\n",
    "\n",
    "sorted(list(coin_data.keys()))"
   ]
  },
  {
   "cell_type": "markdown",
   "metadata": {},
   "source": [
    "*Example 2:*\n",
    "\n",
    "Calculate the average cost of all contracts available for LTC."
   ]
  },
  {
   "cell_type": "code",
   "execution_count": 16,
   "metadata": {
    "collapsed": false
   },
   "outputs": [
    {
     "data": {
      "text/plain": [
       "1630.4142857142856"
      ]
     },
     "execution_count": 16,
     "metadata": {},
     "output_type": "execute_result"
    }
   ],
   "source": [
    "_, mining_data = mining.get_mining_contracts()\n",
    "\n",
    "costs = []\n",
    "for id, c in mining_data.items():\n",
    "    if c['CurrenciesAvailable'] == 'LTC':\n",
    "        costs.append(float(c['Cost']))\n",
    "\n",
    "avg_cost = sum(costs) / len(costs)\n",
    "avg_cost"
   ]
  },
  {
   "cell_type": "markdown",
   "metadata": {},
   "source": [
    "---\n",
    "\n",
    "#### get_mining_equipment\n",
    "\n",
    "```python\n",
    "get_mining_equipment()\n",
    "```\n",
    "\n",
    "Get all the mining equipment information available.\n",
    "\n",
    "*Returns:*\n",
    "\n",
    "This function returns two major dictionaries. The first one contains information about the coins for which mining equipment data is available.\n",
    "\n",
    "`coin_data`: \n",
    "\n",
    "```\n",
    "{symbol1: {'BlockNumber': ...,\n",
    "           'BlockReward': ...,\n",
    "           'BlockRewardReduction': ...,\n",
    "           'BlockTime': ...,\n",
    "           'DifficultyAdjustment': ...,\n",
    "           'NetHashesPerSecond': ...,\n",
    "           'PreviousTotalCoinsMined': ...,\n",
    "           'PriceUSD': ...,\n",
    "           'Symbol': ...,\n",
    "           'TotalCoinsMined': ...},\n",
    " symbol2: {...},\n",
    " ...}\n",
    "```\n",
    "\n",
    "The other one contains all the available mining equipment.\n",
    "\n",
    "`mining_data`:\n",
    "\n",
    "```\n",
    "{id1: {'AffiliateURL': ...,\n",
    "       'Algorithm': ...,\n",
    "       'Company': ...,\n",
    "       'Cost': ...,\n",
    "       'CurrenciesAvailable': ...,\n",
    "       'CurrenciesAvailableLogo': ...,\n",
    "       'CurrenciesAvailableName': ...,\n",
    "       'Currency': ...,\n",
    "       'EquipmentType': ...,\n",
    "       'HashesPerSecond': ...,\n",
    "       'Id': ...,\n",
    "       'LogoUrl': ...,\n",
    "       'Name': ...,\n",
    "       'ParentId': ...,\n",
    "       'PowerConsumption': ...,\n",
    "       'Recommended': ...,\n",
    "       'Sponsored': ...,\n",
    "       'Url': ...},\n",
    " id2: {...},\n",
    " ...}\n",
    "```\n",
    "\n",
    "*Example 1:*\n",
    "\n",
    "Get the different equipment categories that are present."
   ]
  },
  {
   "cell_type": "code",
   "execution_count": 5,
   "metadata": {
    "collapsed": false,
    "scrolled": false
   },
   "outputs": [
    {
     "data": {
      "text/plain": [
       "['ASIC', 'Chip', 'GPU', 'Refurbished GPU', 'Rig', 'Rig Bundle', 'USB']"
      ]
     },
     "execution_count": 5,
     "metadata": {},
     "output_type": "execute_result"
    }
   ],
   "source": [
    "_, mining_data = mining.get_mining_equipment()\n",
    "\n",
    "equipment_types = set()\n",
    "for id, m in mining_data.items():\n",
    "    equipment_types.add(m['EquipmentType'])\n",
    "\n",
    "equipment_types = sorted(list(equipment_types))\n",
    "equipment_types"
   ]
  },
  {
   "cell_type": "markdown",
   "metadata": {},
   "source": [
    "---\n",
    "\n",
    "### rest.py\n",
    "* AllExchanges() (unfinished)"
   ]
  },
  {
   "cell_type": "markdown",
   "metadata": {},
   "source": [
    "---\n",
    "\n",
    "### top.py\n",
    "\n",
    "To access these functions, you can import them in the following way:"
   ]
  },
  {
   "cell_type": "code",
   "execution_count": 22,
   "metadata": {
    "collapsed": true
   },
   "outputs": [],
   "source": [
    "from cryptocompy import top"
   ]
  },
  {
   "cell_type": "markdown",
   "metadata": {},
   "source": [
    "---\n",
    "\n",
    "#### get_top_exchanges\n",
    "\n",
    "```python\n",
    "get_top_exchanges(fsym, tsym, limit=5)\n",
    "```\n",
    "\n",
    "Get top exchanges by 24 hour trading volume for the currency pair.\n",
    "\n",
    "*Arguments:*\n",
    "\n",
    "* fsym: FROM symbol.\n",
    "* tsym: TO symbol.\n",
    "* limit: Number of results. Default value returns top 5 exchanges.\n",
    "\n",
    "*Returns:*\n",
    "\n",
    "Function returns a list containing a dictionary for each result:\n",
    "\n",
    "```\n",
    "[{'exchange': ..., 'fromSymbol': ..., 'toSymbole': ..., ''volume24h': ..., 'volume24hTo': ...}, \n",
    " {...}, \n",
    " ...]\n",
    "```\n",
    "\n",
    "The list is ordered based on the volume of the FROM currency starting with the highest value.\n",
    "\n",
    "*Example 1:*\n",
    "\n",
    "Return the five exchanges with the highest BTC/EUR trading volumes."
   ]
  },
  {
   "cell_type": "code",
   "execution_count": 23,
   "metadata": {
    "collapsed": false
   },
   "outputs": [
    {
     "data": {
      "text/plain": [
       "[{'exchange': 'Kraken',\n",
       "  'fromSymbol': 'BTC',\n",
       "  'toSymbol': 'EUR',\n",
       "  'volume24h': 8351.092083899992,\n",
       "  'volume24hTo': 27628317.082228173},\n",
       " {'exchange': 'Bitstamp',\n",
       "  'fromSymbol': 'BTC',\n",
       "  'toSymbol': 'EUR',\n",
       "  'volume24h': 2568.1894343999998,\n",
       "  'volume24hTo': 8511824.021590795},\n",
       " {'exchange': 'Coinbase',\n",
       "  'fromSymbol': 'BTC',\n",
       "  'toSymbol': 'EUR',\n",
       "  'volume24h': 1517.8138159200014,\n",
       "  'volume24hTo': 5048021.616161475},\n",
       " {'exchange': 'Gatecoin',\n",
       "  'fromSymbol': 'BTC',\n",
       "  'toSymbol': 'EUR',\n",
       "  'volume24h': 1168.84521697,\n",
       "  'volume24hTo': 3863339.3599144304},\n",
       " {'exchange': 'Quoine',\n",
       "  'fromSymbol': 'BTC',\n",
       "  'toSymbol': 'EUR',\n",
       "  'volume24h': 732.7815031599999,\n",
       "  'volume24hTo': 2408914.8726677545}]"
      ]
     },
     "execution_count": 23,
     "metadata": {},
     "output_type": "execute_result"
    }
   ],
   "source": [
    "top.get_top_exchanges('BTC', 'EUR')"
   ]
  },
  {
   "cell_type": "markdown",
   "metadata": {},
   "source": [
    "---\n",
    "\n",
    "#### get_top_coins\n",
    "\n",
    "```python\n",
    "get_top_coins(tsym, limit=20)\n",
    "```\n",
    "\n",
    "Get top coins by 24 hour trading volume value in the requested currency.\n",
    "\n",
    "*Arguments:*\n",
    "\n",
    "* tsym: TO symbol.\n",
    "* limit: Number of results. Default value returns top 20 coins.\n",
    "\n",
    "*Returns:*\n",
    "\n",
    "Function returns a list containing a dictionary for each result:\n",
    "\n",
    "```\n",
    "[{'SUPPLY': ..., 'SYMBOL': ..., 'VOLUME24HOURTO': ...}, \n",
    " {...}, \n",
    " ...]\n",
    "```\n",
    "\n",
    "The list is ordered based on the volume of the TO currency starting with the highest value.\n",
    "\n",
    "*Example 1:*\n",
    "\n",
    "Find the five coins with the highest 24h trading volume in EUR."
   ]
  },
  {
   "cell_type": "code",
   "execution_count": 24,
   "metadata": {
    "collapsed": false
   },
   "outputs": [
    {
     "data": {
      "text/plain": [
       "[{'SUPPLY': 16588012, 'SYMBOL': 'BTC', 'VOLUME24HOURTO': 49837171.97736684},\n",
       " {'SUPPLY': 94827328.3116,\n",
       "  'SYMBOL': 'ETH',\n",
       "  'VOLUME24HOURTO': 23263552.251434967},\n",
       " {'SUPPLY': 53106307.3718871,\n",
       "  'SYMBOL': 'LTC',\n",
       "  'VOLUME24HOURTO': 4445373.437819645},\n",
       " {'SUPPLY': 38305873865,\n",
       "  'SYMBOL': 'XRP',\n",
       "  'VOLUME24HOURTO': 1309229.1452122403},\n",
       " {'SUPPLY': 16617575, 'SYMBOL': 'BCH', 'VOLUME24HOURTO': 1104153.3960400792},\n",
       " {'SUPPLY': 7582684.8248937,\n",
       "  'SYMBOL': 'DASH',\n",
       "  'VOLUME24HOURTO': 484580.27885076427}]"
      ]
     },
     "execution_count": 24,
     "metadata": {},
     "output_type": "execute_result"
    }
   ],
   "source": [
    "top.get_top_coins('EUR', limit=5)"
   ]
  },
  {
   "cell_type": "markdown",
   "metadata": {},
   "source": [
    "---\n",
    "\n",
    "#### get_top_pairs\n",
    "\n",
    "```python\n",
    "get_top_pairs(fsym, limit=5)\n",
    "```\n",
    "\n",
    "Get top trading pairs by 24 hour aggregated volume for a currency.\n",
    "\n",
    "*Arguments:*\n",
    "\n",
    "* fsym: FROM symbol.\n",
    "* limit: Number of results. Default value returns top 5 pairs.\n",
    "\n",
    "*Returns:*\n",
    "\n",
    "Function returns a list containing a dictionary for each result:\n",
    "\n",
    "```\n",
    "[{'exchange': ..., 'fromSymbol': ..., 'toSymbol': ..., 'volume24h': ..., 'volume24hTo': ...}, \n",
    " {...}, \n",
    " ...]\n",
    "```\n",
    "\n",
    "The list is ordered based on the volume of the FROM currency starting with the highest value.\n",
    "\n",
    "*Example 1:*\n",
    "\n",
    "Get the five currencies with the highest BTC trading volumes."
   ]
  },
  {
   "cell_type": "code",
   "execution_count": 25,
   "metadata": {
    "collapsed": false
   },
   "outputs": [
    {
     "data": {
      "text/plain": [
       "['JPY', 'USD', 'KRW', 'CNY', 'EUR']"
      ]
     },
     "execution_count": 25,
     "metadata": {},
     "output_type": "execute_result"
    }
   ],
   "source": [
    "pair_data = top.get_top_pairs('BTC')\n",
    "tsyms = [p['toSymbol'] for p in pair_data]\n",
    "tsyms"
   ]
  }
 ],
 "metadata": {
  "kernelspec": {
   "display_name": "Python 3",
   "language": "python",
   "name": "python3"
  },
  "language_info": {
   "codemirror_mode": {
    "name": "ipython",
    "version": 3
   },
   "file_extension": ".py",
   "mimetype": "text/x-python",
   "name": "python",
   "nbconvert_exporter": "python",
   "pygments_lexer": "ipython3",
   "version": "3.5.2"
  }
 },
 "nbformat": 4,
 "nbformat_minor": 2
}
