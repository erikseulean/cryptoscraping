{
 "cells": [
  {
   "cell_type": "code",
   "execution_count": 2,
   "metadata": {
    "collapsed": false
   },
   "outputs": [],
   "source": [
    "import datetime\n",
    "from datetime import date\n",
    "import pandas as pd\n",
    "import numpy as np\n",
    "import matplotlib.pyplot as plt\n",
    "import matplotlib.dates as mdates\n",
    "#from IPython.core.interactiveshell import InteractiveShell\n",
    "#InteractiveShell.ast_node_interactivity = \"all\"\n",
    "%matplotlib inline"
   ]
  },
  {
   "cell_type": "code",
   "execution_count": 3,
   "metadata": {
    "collapsed": false
   },
   "outputs": [
    {
     "name": "stderr",
     "output_type": "stream",
     "text": [
      "/Users/sanchez/Projects/py/Anaconda/anaconda/lib/python3.5/site-packages/sklearn/cross_validation.py:44: DeprecationWarning: This module was deprecated in version 0.18 in favor of the model_selection module into which all the refactored classes and functions are moved. Also note that the interface of the new CV iterators are different from that of this module. This module will be removed in 0.20.\n",
      "  \"This module will be removed in 0.20.\", DeprecationWarning)\n"
     ]
    }
   ],
   "source": [
    "from sklearn import cross_validation\n",
    "from sklearn import metrics\n",
    "from sklearn import preprocessing\n",
    "from sklearn.datasets import load_iris\n",
    "from sklearn.tree import DecisionTreeClassifier"
   ]
  },
  {
   "cell_type": "code",
   "execution_count": 4,
   "metadata": {
    "collapsed": true
   },
   "outputs": [],
   "source": [
    "import utils\n",
    "import analytics\n",
    "import portfolio\n",
    "import backtester\n",
    "import models\n",
    "# import refresh\n",
    "# refresh.run()"
   ]
  },
  {
   "cell_type": "code",
   "execution_count": 5,
   "metadata": {
    "collapsed": true
   },
   "outputs": [],
   "source": [
    "data = analytics.cleaned_dataset()"
   ]
  },
  {
   "cell_type": "code",
   "execution_count": 7,
   "metadata": {
    "collapsed": false
   },
   "outputs": [
    {
     "ename": "NameError",
     "evalue": "name 'getTimeseries' is not defined",
     "output_type": "error",
     "traceback": [
      "\u001b[0;31m---------------------------------------------------------------------------\u001b[0m",
      "\u001b[0;31mNameError\u001b[0m                                 Traceback (most recent call last)",
      "\u001b[0;32m<ipython-input-7-9b0095a99af3>\u001b[0m in \u001b[0;36m<module>\u001b[0;34m()\u001b[0m\n\u001b[1;32m      2\u001b[0m \u001b[0mendDate\u001b[0m \u001b[0;34m=\u001b[0m \u001b[0mdate\u001b[0m\u001b[0;34m(\u001b[0m\u001b[0;36m2017\u001b[0m\u001b[0;34m,\u001b[0m \u001b[0;36m12\u001b[0m\u001b[0;34m,\u001b[0m \u001b[0;36m22\u001b[0m\u001b[0;34m)\u001b[0m\u001b[0;34m\u001b[0m\u001b[0m\n\u001b[1;32m      3\u001b[0m \u001b[0mcoin\u001b[0m \u001b[0;34m=\u001b[0m \u001b[0;34m\"ethereum\"\u001b[0m\u001b[0;34m\u001b[0m\u001b[0m\n\u001b[0;32m----> 4\u001b[0;31m \u001b[0mdates\u001b[0m\u001b[0;34m,\u001b[0m \u001b[0mprices\u001b[0m\u001b[0;34m,\u001b[0m \u001b[0mvolumes\u001b[0m \u001b[0;34m=\u001b[0m \u001b[0mgetTimeseries\u001b[0m\u001b[0;34m(\u001b[0m\u001b[0mcoin\u001b[0m\u001b[0;34m,\u001b[0m \u001b[0mstartDate\u001b[0m\u001b[0;34m,\u001b[0m \u001b[0mendDate\u001b[0m\u001b[0;34m)\u001b[0m\u001b[0;34m\u001b[0m\u001b[0m\n\u001b[0m\u001b[1;32m      5\u001b[0m \u001b[0mactions\u001b[0m \u001b[0;34m=\u001b[0m \u001b[0mgenerateSignals\u001b[0m\u001b[0;34m(\u001b[0m\u001b[0mdates\u001b[0m\u001b[0;34m,\u001b[0m \u001b[0mprices\u001b[0m\u001b[0;34m,\u001b[0m \u001b[0mvolumes\u001b[0m\u001b[0;34m)\u001b[0m\u001b[0;34m\u001b[0m\u001b[0m\n\u001b[1;32m      6\u001b[0m \u001b[0mplotStrategy\u001b[0m\u001b[0;34m(\u001b[0m\u001b[0mcoin\u001b[0m\u001b[0;34m,\u001b[0m \u001b[0mdates\u001b[0m\u001b[0;34m,\u001b[0m \u001b[0mprices\u001b[0m\u001b[0;34m,\u001b[0m \u001b[0mvolumes\u001b[0m\u001b[0;34m,\u001b[0m \u001b[0mactions\u001b[0m\u001b[0;34m)\u001b[0m\u001b[0;34m\u001b[0m\u001b[0m\n",
      "\u001b[0;31mNameError\u001b[0m: name 'getTimeseries' is not defined"
     ]
    }
   ],
   "source": [
    "startDate = date(2017, 11, 1)\n",
    "endDate = date(2017, 12, 22)\n",
    "coin = \"ethereum\"\n",
    "dates, prices, volumes = getTimeseries(coin, startDate, endDate)\n",
    "actions = generateSignals(dates, prices, volumes)\n",
    "plotStrategy(coin, dates, prices, volumes, actions)"
   ]
  },
  {
   "cell_type": "code",
   "execution_count": 91,
   "metadata": {
    "collapsed": false
   },
   "outputs": [
    {
     "ename": "SyntaxError",
     "evalue": "invalid syntax (<ipython-input-91-b56f953b0c4c>, line 82)",
     "output_type": "error",
     "traceback": [
      "\u001b[0;36m  File \u001b[0;32m\"<ipython-input-91-b56f953b0c4c>\"\u001b[0;36m, line \u001b[0;32m82\u001b[0m\n\u001b[0;31m    if #volume < volumeTomorrow and volumeTomorrow < volumeInTwoDays and \\\u001b[0m\n\u001b[0m                                                                          ^\u001b[0m\n\u001b[0;31mSyntaxError\u001b[0m\u001b[0;31m:\u001b[0m invalid syntax\n"
     ]
    }
   ],
   "source": [
    "# Change color of each axis\n",
    "def color_y_axis(ax, color):\n",
    "    \"\"\"Color your axes.\"\"\"\n",
    "    for t in ax.get_yticklabels():\n",
    "        t.set_color(color)\n",
    "    return None\n",
    "\n",
    "def formatDatesNicely(dates):\n",
    "    labels = []\n",
    "    for date in dates:\n",
    "        thisDate = pd.to_datetime(date)\n",
    "        labels.append(thisDate)\n",
    "    return labels\n",
    "\n",
    "def formatDates(dates, nth):\n",
    "    labels = []\n",
    "    i = 0\n",
    "    for date in dates:\n",
    "        thisDate = \"\"\n",
    "        i += 1\n",
    "        if i % nth == 0:\n",
    "            thisDate = pd.to_datetime(date)\n",
    "            thisDate = thisDate.strftime(\"%d/%m/%Y\")\n",
    "        labels.append(thisDate)\n",
    "    return labels\n",
    "\n",
    "def plotStrategy(coin, dates, prices, volumes, actions):\n",
    "    # Create axes\n",
    "    fig, ax1 = plt.subplots(figsize=(20,5))\n",
    "    ax2 = ax1.twinx()\n",
    "\n",
    "    ax1.plot(formatDatesNicely(dates), prices, color='black')\n",
    "    ax1.set_xlabel('Date')\n",
    "    ax1.set_ylabel('Close price')\n",
    "\n",
    "    ax2.bar(formatDatesNicely(dates), volumes, width=0.5, color='blue')\n",
    "    ax2.set_ylabel('Volume')\n",
    "    ax2.set_ylim(top=(max(volumes) * 3))\n",
    "\n",
    "    color_y_axis(ax1, 'black')\n",
    "    color_y_axis(ax2, 'blue')\n",
    "\n",
    "    plt.xticks(formatDatesNicely(utils.dateRange(startDate, endDate, 1, 'd')))\n",
    "    plt.format_xdata = mdates.DateFormatter('%Y-%m-%d')\n",
    "    ax1.xaxis.set_major_formatter(mdates.DateFormatter('%d-%m-%Y'))\n",
    "    labels = ax1.get_xticklabels()\n",
    "    plt.setp(labels, rotation=30, fontsize=10)\n",
    "\n",
    "    for action in actions:\n",
    "        if action[\"Action\"] == \"BUY\" or action[\"Action\"] == \"SELL\":\n",
    "            colour = \"green\" if action[\"Action\"] == \"BUY\" else \"red\"\n",
    "            plt.axvline(x=action[\"Date\"], color=colour, linestyle='--')\n",
    "        \n",
    "    plt.title(coin)\n",
    "    plt.show()\n",
    "\n",
    "def generateSignals(dates, prices, volumes):\n",
    "\n",
    "    actions = []\n",
    "\n",
    "    bt_dates = list(dates)\n",
    "    bt_prices = list(prices)\n",
    "    bt_volumes = list(volumes)\n",
    "\n",
    "    bt_dates.reverse()\n",
    "    bt_prices.reverse()\n",
    "    bt_volumes.reverse()\n",
    "\n",
    "    holding = False\n",
    "    for i in range(len(bt_dates)-3):\n",
    "        dt = bt_dates[i]\n",
    "        px = bt_prices[i]\n",
    "        volume = bt_volumes[i]\n",
    "\n",
    "        volumeTomorrow = bt_volumes[i+1]\n",
    "        volumeInTwoDays = bt_volumes[i+2]\n",
    "        pxTomorrow = bt_prices[i+1]\n",
    "        pxInTwoDays = bt_prices[i+2]\n",
    "\n",
    "        signal = \"HODL\"\n",
    "\n",
    "        if #volume < volumeTomorrow and volumeTomorrow < volumeInTwoDays and \\\n",
    "          # px < pxTomorrow and pxTomorrow < pxInTwoDays:\n",
    "            px < pxTomorrow and pxTomorrow < pxInTwoDays:\n",
    "            # px < pxTomorrow:\n",
    "            signal = \"BUY\"\n",
    "\n",
    "        if px > pxTomorrow and pxTomorrow > pxInTwoDays:\n",
    "            signal = \"SELL\"\n",
    "\n",
    "        actions.append({\"Date\": dt, \"Action\": signal}) \n",
    "\n",
    "        #print (dt.strftime(\"%d/%m/%Y\"), px, volume, signal, volumeTomorrow, volumeInTwoDays, pxTomorrow, pxInTwoDays)\n",
    "    return actions\n",
    "\n",
    "def getTimeseries(coin, startDate, endDate):\n",
    "    timeseries = data[(data[\"Date\"] >= startDate) & \n",
    "                   (data[\"Date\"] <= endDate) &\n",
    "                   (data[\"Coin\"] == coin)]\n",
    "\n",
    "    bitcoin = timeseries.sort_values(by=\"Date\", ascending=False)\n",
    "    prices = list(timeseries[\"Close\"].values)\n",
    "    dates = list(timeseries[\"Date\"].values)\n",
    "    volumes = list(timeseries[\"Volume\"].values)\n",
    "    dates = [pd.to_datetime(dt).to_datetime() for dt in dates]\n",
    "    return dates, prices, volumes"
   ]
  },
  {
   "cell_type": "code",
   "execution_count": 101,
   "metadata": {
    "collapsed": true
   },
   "outputs": [],
   "source": [
    "def generateMLData(coin, dates, prices, volumes, actions):\n",
    "    \n",
    "    ml_dates = list(dates)\n",
    "    ml_prices = list(prices)\n",
    "    ml_volumes = list(volumes)\n",
    "\n",
    "    ml_dates.reverse()\n",
    "    ml_prices.reverse()\n",
    "    ml_volumes.reverse()\n",
    "\n",
    "    \n",
    "    mlFeatures = [\"PRICE\", \"PRICE1DAYSAGO\", \"PRICE2DAYSAGO\", \"PRICE3DAYSAGO\", \"PRICE4DAYSAGO\", \"PRICE5DAYSAGO\", \n",
    "                  \"VOLUME\", \"VOLUME1DAYSAGO\", \"VOLUME2DAYSAGO\", \"VOLUME3DAYSAGO\", \"VOLUME4DAYSAGO\", \"VOLUME5DAYSAGO\"]\n",
    "    mlData = []\n",
    "    mlTarget = []\n",
    "    \n",
    "    for i in range(2, len(ml_dates)):\n",
    "        dt = ml_dates[i]\n",
    "        price = float(ml_prices[i])\n",
    "        price1day = float(ml_prices[i-1])\n",
    "        price2day = float(ml_prices[i-2])\n",
    "        price3day = float(ml_prices[i-3])\n",
    "        price4day = float(ml_prices[i-4])\n",
    "        price5day = float(ml_prices[i-5])\n",
    "        \n",
    "        volume = float(ml_volumes[i])\n",
    "        volume1day = float(ml_volumes[i-1])\n",
    "        volume2day = float(ml_volumes[i-2])\n",
    "        volume3day = float(ml_volumes[i-3])\n",
    "        volume4day = float(ml_volumes[i-4])\n",
    "        volume5day = float(ml_volumes[i-5])\n",
    "        \n",
    "        row = {\"PRICE\": price, \"PRICE1DAYSAGO\": price1day, \"PRICE2DAYSAGO\": price2day,\n",
    "               \"PRICE3DAYSAGO\": price3day, \"PRICE4DAYSAGO\": price4day, \"PRICE5DAYSAGO\": price5day,\n",
    "               \"VOLUME\": volume, \"VOLUME1DAYSAGO\": volume1day, \"VOLUME2DAYSAGO\": volume2day, \n",
    "               \"VOLUME3DAYSAGO\": volume3day, \"VOLUME4DAYSAGO\": volume4day, \"VOLUME5DAYSAGO\": volume5day,}\n",
    "        \n",
    "        tgt = 0.0\n",
    "        for act in actions:\n",
    "            if act[\"Date\"] == dt:\n",
    "                if act[\"Action\"] == \"BUY\":\n",
    "                    tgt = 1.0\n",
    "                elif act[\"Action\"] == \"SELL\":\n",
    "                    tgt = -1.0\n",
    "            \n",
    "        mlData.append(row)\n",
    "        mlTarget.append(tgt)\n",
    "        \n",
    "        #print (row, tgt)\n",
    "    mlData = pd.DataFrame(mlData, columns = mlFeatures)\n",
    "    return mlData, mlTarget, mlFeatures"
   ]
  },
  {
   "cell_type": "code",
   "execution_count": null,
   "metadata": {
    "collapsed": false
   },
   "outputs": [],
   "source": []
  },
  {
   "cell_type": "code",
   "execution_count": 102,
   "metadata": {
    "collapsed": false,
    "scrolled": false
   },
   "outputs": [],
   "source": [
    "startDate = date(2015, 1, 1)\n",
    "endDate = date(2017, 12, 22)\n",
    "coin = \"ethereum\"\n",
    "dates, prices, volumes = getTimeseries(coin, startDate, endDate)\n",
    "actions = generateSignals(dates, prices, volumes)\n",
    "mlData, mlTarget, mlFeatures = generateMLData(\"ethereum\", dates, prices, volumes, actions)\n",
    "X_train, X_test, y_train, y_test = cross_validation.train_test_split(\n",
    "    mlData, mlTarget, test_size=0.2, random_state=42)"
   ]
  },
  {
   "cell_type": "code",
   "execution_count": 103,
   "metadata": {
    "collapsed": false
   },
   "outputs": [
    {
     "name": "stdout",
     "output_type": "stream",
     "text": [
      "0.64367816092\n",
      "[ 0.  0.  0.  0.  0.  0.  0.  0.  0.  0.  0.  0.  0.  0.  0.  0.  0.  0.\n",
      "  0.  0.  0.  0.  0.  0.  0.  0.  0.  0.  0.  0.  0.  0.  0.  0.  0.  0.\n",
      "  0.  0.  0.  0.  0.  0.  0.  0.  0.  0.  0.  0.  0.  0.  0.  0.  0.  0.\n",
      "  0.  0.  0.  0.  0.  0.  0.  0. -1.  0.  0.  0.  0.  0.  0.  0.  0.  0.\n",
      "  0.  0.  0.  0.  0.  0.  0.  0.  0.  0.  0.  0.  0.  0.  0.  0.  0.  0.\n",
      "  0.  0.  0.  0.  0.  0.  0.  0.  0.  0.  0.  0.  0.  0.  0.  0.  0.  0.\n",
      "  0.  0.  0.  0.  0.  0.  0.  0.  0.  0.  0.  0.  0.  0.  0. -1.  0.  0.\n",
      "  0.  0.  0.  0.  0.  0.  0.  0.  0.  0.  0.  0.  0.  0.  0.  0.  0.  0.\n",
      "  0.  0.  0.  0.  0.  0.  0.  0.  0.  0.  0.  0.  0.  0.  0.  0.  0.  0.\n",
      "  0.  0.  0.  0.  0.  0.  0.  0.  0.  0.  0.  0.]\n",
      "[-1.0, -1.0, 0.0, 0.0, -1.0, -1.0, 1.0, 0.0, -1.0, 0.0, 1.0, -1.0, -1.0, 0.0, 1.0, 0.0, 0.0, 0.0, -1.0, -1.0, 1.0, -1.0, -1.0, -1.0, 0.0, 0.0, 0.0, 1.0, -1.0, 0.0, 0.0, 0.0, -1.0, -1.0, -1.0, 0.0, -1.0, 0.0, 1.0, -1.0, -1.0, -1.0, 0.0, -1.0, -1.0, 0.0, -1.0, 0.0, -1.0, 0.0, 0.0, 0.0, 0.0, 0.0, 0.0, 0.0, 0.0, 0.0, 0.0, 0.0, 0.0, 0.0, -1.0, 0.0, 0.0, 0.0, 0.0, 0.0, 0.0, 0.0, -1.0, 0.0, 0.0, 0.0, 0.0, -1.0, -1.0, -1.0, 0.0, 0.0, 0.0, 0.0, 0.0, 0.0, 1.0, 0.0, 0.0, -1.0, 0.0, 0.0, 0.0, 0.0, 0.0, -1.0, -1.0, 0.0, 0.0, 0.0, -1.0, 0.0, -1.0, 1.0, 0.0, 0.0, 0.0, 0.0, 0.0, -1.0, -1.0, 0.0, 0.0, -1.0, 0.0, 0.0, 0.0, 0.0, 0.0, 0.0, 0.0, 1.0, 0.0, 0.0, 0.0, -1.0, 0.0, 0.0, 0.0, 0.0, -1.0, 0.0, 1.0, 0.0, 1.0, 0.0, 0.0, -1.0, -1.0, 0.0, -1.0, 0.0, 0.0, -1.0, 0.0, 0.0, 0.0, 0.0, 1.0, 0.0, 0.0, 0.0, 0.0, 0.0, 0.0, 0.0, 0.0, 0.0, 0.0, 0.0, -1.0, 0.0, 0.0, -1.0, -1.0, 0.0, -1.0, 0.0, -1.0, -1.0, 0.0, 1.0, 0.0, 0.0, -1.0, -1.0]\n"
     ]
    }
   ],
   "source": [
    "estimator = DecisionTreeClassifier(max_leaf_nodes=3, random_state=0)\n",
    "estimator.fit(X_train, y_train)\n",
    "\n",
    "predictions = estimator.predict(X_test)\n",
    "expected = y_test\n",
    "\n",
    "print (estimator.score(X_test, y_test))\n",
    "print (predictions)\n",
    "print (expected)"
   ]
  },
  {
   "cell_type": "code",
   "execution_count": 104,
   "metadata": {
    "collapsed": true
   },
   "outputs": [],
   "source": [
    "from sklearn import linear_model, datasets"
   ]
  },
  {
   "cell_type": "code",
   "execution_count": 105,
   "metadata": {
    "collapsed": false
   },
   "outputs": [
    {
     "data": {
      "text/plain": [
       "0.63218390804597702"
      ]
     },
     "execution_count": 105,
     "metadata": {},
     "output_type": "execute_result"
    }
   ],
   "source": [
    "estimator = linear_model.LogisticRegression(C=1e5)\n",
    "estimator.fit(X_train, y_train)\n",
    "\n",
    "predictions = estimator.predict(X_test)\n",
    "expected = y_test\n",
    "\n",
    "estimator.score(X_test, y_test)"
   ]
  },
  {
   "cell_type": "code",
   "execution_count": 97,
   "metadata": {
    "collapsed": false
   },
   "outputs": [],
   "source": [
    "from sklearn.neural_network import MLPClassifier"
   ]
  },
  {
   "cell_type": "code",
   "execution_count": 98,
   "metadata": {
    "collapsed": false,
    "scrolled": false
   },
   "outputs": [
    {
     "data": {
      "text/plain": [
       "0.4885057471264368"
      ]
     },
     "execution_count": 98,
     "metadata": {},
     "output_type": "execute_result"
    }
   ],
   "source": [
    "estimator = MLPClassifier(hidden_layer_sizes=(30,50,30))\n",
    "estimator.fit(X_train, y_train)\n",
    "\n",
    "predictions = estimator.predict(X_test)\n",
    "expected = y_test\n",
    "\n",
    "\n",
    "estimator.score(X_test, y_test)\n",
    "##for i in range(len(predictions)):\n",
    "##    print (predictions[i], expected[i])\n"
   ]
  },
  {
   "cell_type": "code",
   "execution_count": null,
   "metadata": {
    "collapsed": true
   },
   "outputs": [],
   "source": []
  },
  {
   "cell_type": "code",
   "execution_count": null,
   "metadata": {
    "collapsed": true
   },
   "outputs": [],
   "source": []
  }
 ],
 "metadata": {
  "kernelspec": {
   "display_name": "Python [Root]",
   "language": "python",
   "name": "Python [Root]"
  },
  "language_info": {
   "codemirror_mode": {
    "name": "ipython",
    "version": 3
   },
   "file_extension": ".py",
   "mimetype": "text/x-python",
   "name": "python",
   "nbconvert_exporter": "python",
   "pygments_lexer": "ipython3",
   "version": "3.5.2"
  }
 },
 "nbformat": 4,
 "nbformat_minor": 0
}
