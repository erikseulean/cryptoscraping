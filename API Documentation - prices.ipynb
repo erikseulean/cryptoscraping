{
 "cells": [
  {
   "cell_type": "code",
   "execution_count": null,
   "metadata": {
    "collapsed": true
   },
   "outputs": [],
   "source": [
    "import requests\n",
    "import pandas as pd"
   ]
  },
  {
   "cell_type": "code",
   "execution_count": null,
   "metadata": {
    "collapsed": false
   },
   "outputs": [],
   "source": [
    "from IPython.core.interactiveshell import InteractiveShell\n",
    "InteractiveShell.ast_node_interactivity = \"all\"\n",
    "from datetime import datetime as Date\n",
    "from crypto.libs.marketcap import MarketCap\n",
    "from crypto.libs.price import Price\n",
    "from crypto.libs.coins import Coins\n",
    "from crypto.libs.scraping.refresh import run as MarketCapInit\n",
    "from crypto.libs import dateutils"
   ]
  },
  {
   "cell_type": "markdown",
   "metadata": {},
   "source": [
    "## Getting price data"
   ]
  },
  {
   "cell_type": "markdown",
   "metadata": {},
   "source": [
    "### Initialising the market environment"
   ]
  },
  {
   "cell_type": "code",
   "execution_count": null,
   "metadata": {
    "collapsed": true
   },
   "outputs": [],
   "source": [
    "# Run this once a day only\n",
    "# MarketCapInit()\n",
    "\n",
    "# Create a singleton class \n",
    "price = Price()"
   ]
  },
  {
   "cell_type": "markdown",
   "metadata": {},
   "source": [
    "### Getting current price"
   ]
  },
  {
   "cell_type": "code",
   "execution_count": null,
   "metadata": {
    "collapsed": false
   },
   "outputs": [],
   "source": [
    "price.current(\"BTC\", \"USD\", \"Bitstamp\")\n",
    "price.current(\"BTC\")"
   ]
  },
  {
   "cell_type": "markdown",
   "metadata": {},
   "source": [
    "### Getting historical data"
   ]
  },
  {
   "cell_type": "code",
   "execution_count": null,
   "metadata": {
    "collapsed": true
   },
   "outputs": [],
   "source": [
    "start_date = Date(2017, 10, 17)\n",
    "end_date = Date(2017, 10, 23)"
   ]
  },
  {
   "cell_type": "markdown",
   "metadata": {},
   "source": [
    "#### Historical datapoint"
   ]
  },
  {
   "cell_type": "code",
   "execution_count": null,
   "metadata": {
    "collapsed": false
   },
   "outputs": [],
   "source": [
    "start_date = Date(2017, 11, 17)\n",
    "end_date = Date(2017, 12, 17)\n",
    "\n",
    "# 1 datapoint\n",
    "price.historical(\"ETH\", \"USD\", start_date)\n",
    "price.historical(\"ETH\", \"USD\", end_date)\n",
    "price.historical(\"ADA\", \"USD\", Date(2018, 1, 3))\n",
    "\n",
    "# 1 datapoint from exchange \n",
    "price.historical(\"ETH\", \"USD\", start_date, exchange='Poloniex')\n",
    "price.historical(\"ETH\", \"USD\", end_date, exchange='Poloniex')\n",
    "price.historical(\"ETH\", \"USD\", start_date, exchange='Bitstamp')\n",
    "price.historical(\"ETH\", \"USD\", end_date, exchange='Bitstamp')\n",
    "price.historical(\"ADA\", \"BTC\", Date(2018, 1, 6), exchange='Binance')"
   ]
  },
  {
   "cell_type": "markdown",
   "metadata": {},
   "source": [
    "#### Historical timeseries"
   ]
  },
  {
   "cell_type": "code",
   "execution_count": null,
   "metadata": {
    "collapsed": false
   },
   "outputs": [],
   "source": [
    "# End of day\n",
    "price.historical(\"ETH\", \"USD\", start_date, end_date)\n",
    "price.historical(\"ETH\", \"BTC\", start_date, end_date, exchange=\"Poloniex\")\n",
    "price.historical(\"ADA\", \"BTC\", start_date, exchange='Binance')\n",
    "price.historical(\"ADA\", \"BTC\", start_date, end_date, \n",
    "                 num_points = 2, exchange='Binance')\n",
    "\n",
    "# Get historical data timeseries (no exchange)\n",
    "price.historical(\"ADA\", \"USD\", start_date, end_date, num_points = 3)\n",
    "\n",
    "# Intraday\n",
    "price.historical(\"BTC\", \"USD\", start_date, end_date, \n",
    "                 bar_type = \"m\", bar_size = 5, num_points = 2, \n",
    "                 exchange='Bitstamp')\n",
    "\n",
    "price.historical(\"BTC\", \"USD\", start_date, end_date, \n",
    "                 bar_type = \"d\", bar_size = 1, num_points = 2, \n",
    "                 exchange='Bitstamp')\n",
    "\n"
   ]
  },
  {
   "cell_type": "markdown",
   "metadata": {},
   "source": [
    "#### Getting price change"
   ]
  },
  {
   "cell_type": "code",
   "execution_count": null,
   "metadata": {
    "collapsed": false
   },
   "outputs": [],
   "source": [
    "# Return percentage change since now()\n",
    "\n",
    "# between dates\n",
    "price.change(\"XLM\", \"USD\", start_date, end_date)\n",
    "\n",
    "# intraday now\n",
    "price.change(\"ETH\", \"USD\", bar_size = 3, bar_type = \"h\")\n",
    "price.change(\"ETH\", \"USD\", bar_size = 10, bar_type = \"m\")\n",
    "price.change(\"ETH\", \"USD\", bar_size = 1, bar_type = \"d\")\n",
    "price.change(\"XLM\", \"USD\", bar_size = 3, bar_type = \"h\")\n",
    "price.change(\"XLM\", \"USD\", bar_size = 10, bar_type = \"m\")\n",
    "price.change(\"XLM\", \"USD\", bar_size = 1, bar_type = \"d\")"
   ]
  },
  {
   "cell_type": "code",
   "execution_count": null,
   "metadata": {
    "collapsed": false
   },
   "outputs": [],
   "source": [
    "# intraday historical\n",
    "as_of_date = Date(2018, 1, 3, 17, 30, 0)\n",
    "price.change(\"XLM\", \"USD\", end_date = as_of_date, \n",
    "             bar_size = 3, bar_type = \"h\")\n",
    "price.change(\"XLM\", \"USD\", end_date = as_of_date,\n",
    "             bar_size = 30, bar_type = \"m\")\n",
    "price.change(\"XLM\", \"USD\", end_date = as_of_date, \n",
    "             bar_size = 1, bar_type = \"d\")\n",
    "\n",
    "price.change(\"BTC\", \"USD\", end_date = as_of_date, \n",
    "             bar_size = 3, bar_type = \"h\")\n",
    "price.change(\"BTC\", \"USD\", end_date = as_of_date,\n",
    "             bar_size = 30, bar_type = \"m\")\n",
    "price.change(\"BTC\", \"USD\", end_date = as_of_date, \n",
    "             bar_size = 1, bar_type = \"d\")"
   ]
  },
  {
   "cell_type": "markdown",
   "metadata": {},
   "source": [
    "### Use case - get change since ICO"
   ]
  },
  {
   "cell_type": "code",
   "execution_count": null,
   "metadata": {
    "collapsed": true
   },
   "outputs": [],
   "source": [
    "coins = Coins()"
   ]
  },
  {
   "cell_type": "code",
   "execution_count": null,
   "metadata": {
    "collapsed": false
   },
   "outputs": [],
   "source": [
    "coin = \"ETH\"\n",
    "ico_date = coins.coin_data(coin, \"ICO\")\n",
    "\n",
    "price.historical(\"ETH\", \"USD\", ico_date)\n",
    "price.historical(\"ETH\", \"USD\", ico_date, exchange=\"Poloniex\")\n",
    "\n",
    "price.historical(\"ETH\", \"BTC\", ico_date)\n",
    "price.historical(\"ETH\", \"BTC\", ico_date, exchange=\"Poloniex\")"
   ]
  },
  {
   "cell_type": "code",
   "execution_count": null,
   "metadata": {
    "collapsed": false
   },
   "outputs": [],
   "source": [
    "# Putting today's date will probably not work because you need to\n",
    "# scrape it and today is never included. So you need 1day before\n",
    "price.change(\"ETH\", \"USD\", ico_date, Date(2018, 1, 5))"
   ]
  },
  {
   "cell_type": "code",
   "execution_count": null,
   "metadata": {
    "collapsed": true
   },
   "outputs": [],
   "source": []
  }
 ],
 "metadata": {
  "anaconda-cloud": {},
  "kernelspec": {
   "display_name": "Python [Root]",
   "language": "python",
   "name": "Python [Root]"
  },
  "language_info": {
   "codemirror_mode": {
    "name": "ipython",
    "version": 3
   },
   "file_extension": ".py",
   "mimetype": "text/x-python",
   "name": "python",
   "nbconvert_exporter": "python",
   "pygments_lexer": "ipython3",
   "version": "3.5.2"
  }
 },
 "nbformat": 4,
 "nbformat_minor": 0
}
