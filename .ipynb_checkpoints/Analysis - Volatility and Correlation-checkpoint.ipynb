{
 "cells": [
  {
   "cell_type": "code",
   "execution_count": 24,
   "metadata": {
    "collapsed": true
   },
   "outputs": [],
   "source": [
    "from IPython.core.interactiveshell import InteractiveShell\n",
    "InteractiveShell.ast_node_interactivity = \"all\""
   ]
  },
  {
   "cell_type": "code",
   "execution_count": 42,
   "metadata": {
    "collapsed": true
   },
   "outputs": [],
   "source": [
    "import requests\n",
    "import pandas as pd\n",
    "from datetime import datetime as Date\n",
    "from datetime import tzinfo\n",
    "import datetime"
   ]
  },
  {
   "cell_type": "code",
   "execution_count": 15,
   "metadata": {
    "collapsed": false
   },
   "outputs": [],
   "source": [
    "import libs.coins as coins\n",
    "import libs.pairs as pairs\n",
    "import libs.price as price\n",
    "import libs.marketcap as marketcap"
   ]
  },
  {
   "cell_type": "code",
   "execution_count": null,
   "metadata": {
    "collapsed": true
   },
   "outputs": [],
   "source": [
    "import libs.ta as ta"
   ]
  },
  {
   "cell_type": "code",
   "execution_count": null,
   "metadata": {
    "collapsed": true
   },
   "outputs": [],
   "source": [
    "import libs.book as book\n",
    "import libs.portfolio as portfolio\n",
    "import libs.models as models\n",
    "import libs.backtesting as backtesting"
   ]
  },
  {
   "cell_type": "code",
   "execution_count": 50,
   "metadata": {
    "collapsed": false
   },
   "outputs": [
    {
     "name": "stdout",
     "output_type": "stream",
     "text": [
      "         Date        Volume    Close    Market-Cap\n",
      "65 2017-10-18  2.399270e+09  5590.69  9.319020e+10\n",
      "66 2017-10-17  1.821570e+09  5605.51  9.546930e+10\n"
     ]
    },
    {
     "ename": "ImportError",
     "evalue": "No module named 'analytics.dashboard'; 'analytics' is not a package",
     "output_type": "error",
     "traceback": [
      "\u001b[0;31m---------------------------------------------------------------------------\u001b[0m",
      "\u001b[0;31mImportError\u001b[0m                               Traceback (most recent call last)",
      "\u001b[0;32m<ipython-input-50-ef602cfef630>\u001b[0m in \u001b[0;36m<module>\u001b[0;34m()\u001b[0m\n\u001b[0;32m----> 1\u001b[0;31m \u001b[0;32mimport\u001b[0m \u001b[0manalytics\u001b[0m\u001b[0;34m.\u001b[0m\u001b[0mdashboard\u001b[0m \u001b[0;32mas\u001b[0m \u001b[0mdashboard\u001b[0m\u001b[0;34m\u001b[0m\u001b[0m\n\u001b[0m\u001b[1;32m      2\u001b[0m \u001b[0;32mimport\u001b[0m \u001b[0manalytics\u001b[0m\u001b[0;34m.\u001b[0m\u001b[0mmacro\u001b[0m \u001b[0;32mas\u001b[0m \u001b[0mmacro\u001b[0m\u001b[0;34m\u001b[0m\u001b[0m\n\u001b[1;32m      3\u001b[0m \u001b[0;32mimport\u001b[0m \u001b[0manalytics\u001b[0m\u001b[0;34m.\u001b[0m\u001b[0mcoininfo\u001b[0m \u001b[0;32mas\u001b[0m \u001b[0mcoininfo\u001b[0m\u001b[0;34m\u001b[0m\u001b[0m\n\u001b[1;32m      4\u001b[0m \u001b[0;32mimport\u001b[0m \u001b[0manalytics\u001b[0m\u001b[0;34m.\u001b[0m\u001b[0mcoinperformance\u001b[0m \u001b[0;32mas\u001b[0m \u001b[0mcoinperformance\u001b[0m\u001b[0;34m\u001b[0m\u001b[0m\n\u001b[1;32m      5\u001b[0m \u001b[0;32mimport\u001b[0m \u001b[0manalytics\u001b[0m\u001b[0;34m.\u001b[0m\u001b[0mbookperformance\u001b[0m \u001b[0;32mas\u001b[0m \u001b[0mbookperformance\u001b[0m\u001b[0;34m\u001b[0m\u001b[0m\n",
      "\u001b[0;31mImportError\u001b[0m: No module named 'analytics.dashboard'; 'analytics' is not a package"
     ]
    }
   ],
   "source": [
    "import analytics.dashboard as dashboard\n",
    "import analytics.macro as macro\n",
    "import analytics.coininfo as coininfo\n",
    "import analytics.coinperformance as coinperformance\n",
    "import analytics.bookperformance as bookperformance\n",
    "\n",
    "import analytics.signals\n",
    "import analytics.alerts\n"
   ]
  },
  {
   "cell_type": "code",
   "execution_count": 49,
   "metadata": {
    "collapsed": false
   },
   "outputs": [
    {
     "data": {
      "text/plain": [
       "True"
      ]
     },
     "execution_count": 49,
     "metadata": {},
     "output_type": "execute_result"
    },
    {
     "ename": "NameError",
     "evalue": "name 'pair' is not defined",
     "output_type": "error",
     "traceback": [
      "\u001b[0;31m---------------------------------------------------------------------------\u001b[0m",
      "\u001b[0;31mNameError\u001b[0m                                 Traceback (most recent call last)",
      "\u001b[0;32m<ipython-input-49-98232fb40080>\u001b[0m in \u001b[0;36m<module>\u001b[0;34m()\u001b[0m\n\u001b[1;32m      4\u001b[0m \u001b[0mmktcp\u001b[0m\u001b[0;34m.\u001b[0m\u001b[0mcurrent\u001b[0m\u001b[0;34m(\u001b[0m\u001b[0;34m\"BTC\"\u001b[0m\u001b[0;34m,\u001b[0m \u001b[0;34m\"USD\"\u001b[0m\u001b[0;34m)\u001b[0m\u001b[0;34m\u001b[0m\u001b[0m\n\u001b[1;32m      5\u001b[0m \u001b[0;34m\u001b[0m\u001b[0m\n\u001b[0;32m----> 6\u001b[0;31m \u001b[0mprice\u001b[0m\u001b[0;34m.\u001b[0m\u001b[0mhistorical\u001b[0m\u001b[0;34m(\u001b[0m\u001b[0mpair\u001b[0m\u001b[0;34m.\u001b[0m\u001b[0mPair\u001b[0m\u001b[0;34m(\u001b[0m\u001b[0;34m\"BTC\"\u001b[0m\u001b[0;34m,\u001b[0m \u001b[0;34m\"USD\"\u001b[0m\u001b[0;34m)\u001b[0m\u001b[0;34m,\u001b[0m \u001b[0mstart_date\u001b[0m\u001b[0;34m,\u001b[0m \u001b[0mend_date\u001b[0m\u001b[0;34m,\u001b[0m \u001b[0mfreq\u001b[0m \u001b[0;34m=\u001b[0m \u001b[0;34m\"daily\"\u001b[0m\u001b[0;34m,\u001b[0m \u001b[0msize\u001b[0m \u001b[0;34m=\u001b[0m \u001b[0;36m1\u001b[0m\u001b[0;34m,\u001b[0m \u001b[0mlimit\u001b[0m \u001b[0;34m=\u001b[0m \u001b[0;36m10\u001b[0m\u001b[0;34m,\u001b[0m \u001b[0mexchange\u001b[0m\u001b[0;34m=\u001b[0m\u001b[0;34m'Poloniex'\u001b[0m\u001b[0;34m)\u001b[0m\u001b[0;34m\u001b[0m\u001b[0m\n\u001b[0m\u001b[1;32m      7\u001b[0m \u001b[0mprice\u001b[0m\u001b[0;34m.\u001b[0m\u001b[0mhistorical\u001b[0m\u001b[0;34m(\u001b[0m\u001b[0mpair\u001b[0m\u001b[0;34m.\u001b[0m\u001b[0mPair\u001b[0m\u001b[0;34m(\u001b[0m\u001b[0;34m\"BTC\"\u001b[0m\u001b[0;34m,\u001b[0m \u001b[0;34m\"USD\"\u001b[0m\u001b[0;34m)\u001b[0m\u001b[0;34m,\u001b[0m \u001b[0mstart_date\u001b[0m\u001b[0;34m,\u001b[0m \u001b[0mend_date\u001b[0m\u001b[0;34m,\u001b[0m \u001b[0mlimit\u001b[0m \u001b[0;34m=\u001b[0m \u001b[0;36m10\u001b[0m\u001b[0;34m,\u001b[0m \u001b[0mexchange\u001b[0m\u001b[0;34m=\u001b[0m\u001b[0;34m'Poloniex'\u001b[0m\u001b[0;34m)\u001b[0m\u001b[0;34m\u001b[0m\u001b[0m\n\u001b[1;32m      8\u001b[0m \u001b[0;34m\u001b[0m\u001b[0m\n",
      "\u001b[0;31mNameError\u001b[0m: name 'pair' is not defined"
     ]
    }
   ],
   "source": [
    "start_date = Date(2017, 10, 17)\n",
    "end_date = Date(2017, 11, 17)\n",
    "\n",
    "# Gives historically market cap, market cap rank, price, supply\n",
    "marketcap.historical(\"BTC\", start_date, end_date) \n",
    "\n",
    "# Gives current market cap, market cap rank, price, supply of BTC in USD\n",
    "marketcap.current(\"BTC\", \"USD\")\n",
    "\n",
    "marketcap.top(100, Date(2017, 10, 11))\n",
    "marketcap.range(60, 80, Date(2017, 10, 11))\n",
    "\n",
    "marketcap.smaller(1000000, Date(2017, 11, 22))\n",
    "marketcap.bigger(10000, Date(2016, 11, 11))\n",
    "marketcap.between(1000, 1000)\n",
    "\n",
    "price.current(Pair(\"BTC\", \"USD\"))\n",
    "price.current(Coin(\"BTC\"))\n",
    "\n",
    "price.historical(Pair(\"BTC\", \"USD\"), start_date, end_date, \n",
    "                 freq = \"minute\", size = 5, limit = 10, exchange='Poloniex')\n",
    "\n",
    "price.historical(Pair(\"BTC\", \"USD\"), start_date, end_date, \n",
    "                 freq = \"daily\", size = 1, limit = 10, exchange='Poloniex')\n",
    "\n",
    "price.historical(Pair(\"BTC\", \"USD\"), start_date, end_date, \n",
    "                 limit = 10, exchange='Poloniex')\n",
    "\n",
    "\n",
    "coins.coin(\"BTC\")\n",
    "coins.exchange(\"Poloniex\")\n",
    "coins.price(0.0, 100000, Date(2016, 11, 11))\n",
    "\n"
   ]
  },
  {
   "cell_type": "code",
   "execution_count": null,
   "metadata": {
    "collapsed": false
   },
   "outputs": [],
   "source": []
  },
  {
   "cell_type": "code",
   "execution_count": 20,
   "metadata": {
    "collapsed": true
   },
   "outputs": [],
   "source": [
    "def daily_price_hist(   symbol,\n",
    "                        comparison_symbol,\n",
    "                        limit,\n",
    "                        aggregate,\n",
    "                        toTs = None,\n",
    "                        exchange=''):\n",
    "    url = 'https://min-api.cryptocompare.com/data/histoday?fsym={}&tsym={}&aggregate={}'\\\n",
    "            .format(symbol.upper(), comparison_symbol.upper(), aggregate)\n",
    "    if exchange:\n",
    "        url += '&e={}'.format(exchange)\n",
    "\n",
    "    if toTs:\n",
    "        url += '&toTs={}'.format(toTs)\n",
    "        \n",
    "    if limit is None:\n",
    "        url += '&allData=true'\n",
    "    else:\n",
    "        url += '&limit={}'.format(limit)\n",
    "\n",
    "    page = requests.get(url)\n",
    "    data = page.json()['Data']\n",
    "    df = pd.DataFrame(data)\n",
    "    df.index = [Date.fromtimestamp(d) for d in df.time]\n",
    "    return df"
   ]
  },
  {
   "cell_type": "code",
   "execution_count": 21,
   "metadata": {
    "collapsed": false
   },
   "outputs": [
    {
     "data": {
      "text/html": [
       "<div>\n",
       "<table border=\"1\" class=\"dataframe\">\n",
       "  <thead>\n",
       "    <tr style=\"text-align: right;\">\n",
       "      <th></th>\n",
       "      <th>close</th>\n",
       "      <th>high</th>\n",
       "      <th>low</th>\n",
       "      <th>open</th>\n",
       "      <th>time</th>\n",
       "      <th>volumefrom</th>\n",
       "      <th>volumeto</th>\n",
       "    </tr>\n",
       "  </thead>\n",
       "  <tbody>\n",
       "    <tr>\n",
       "      <th>2017-12-21</th>\n",
       "      <td>15632.12</td>\n",
       "      <td>17301.83</td>\n",
       "      <td>14952.98</td>\n",
       "      <td>16461.09</td>\n",
       "      <td>1513814400</td>\n",
       "      <td>163735.02</td>\n",
       "      <td>2.619295e+09</td>\n",
       "    </tr>\n",
       "    <tr>\n",
       "      <th>2017-12-22</th>\n",
       "      <td>13664.97</td>\n",
       "      <td>15823.72</td>\n",
       "      <td>10875.71</td>\n",
       "      <td>15632.12</td>\n",
       "      <td>1513900800</td>\n",
       "      <td>466980.60</td>\n",
       "      <td>6.245732e+09</td>\n",
       "    </tr>\n",
       "    <tr>\n",
       "      <th>2017-12-23</th>\n",
       "      <td>14396.46</td>\n",
       "      <td>15493.23</td>\n",
       "      <td>13356.07</td>\n",
       "      <td>13664.97</td>\n",
       "      <td>1513987200</td>\n",
       "      <td>170169.39</td>\n",
       "      <td>2.491903e+09</td>\n",
       "    </tr>\n",
       "    <tr>\n",
       "      <th>2017-12-24</th>\n",
       "      <td>13789.95</td>\n",
       "      <td>14413.72</td>\n",
       "      <td>12166.45</td>\n",
       "      <td>14396.63</td>\n",
       "      <td>1514073600</td>\n",
       "      <td>182417.29</td>\n",
       "      <td>2.428438e+09</td>\n",
       "    </tr>\n",
       "    <tr>\n",
       "      <th>2017-12-25</th>\n",
       "      <td>13833.49</td>\n",
       "      <td>14467.43</td>\n",
       "      <td>13010.71</td>\n",
       "      <td>13789.95</td>\n",
       "      <td>1514160000</td>\n",
       "      <td>107475.98</td>\n",
       "      <td>1.487888e+09</td>\n",
       "    </tr>\n",
       "    <tr>\n",
       "      <th>2017-12-26</th>\n",
       "      <td>15756.56</td>\n",
       "      <td>16094.67</td>\n",
       "      <td>13748.49</td>\n",
       "      <td>13830.19</td>\n",
       "      <td>1514246400</td>\n",
       "      <td>143135.26</td>\n",
       "      <td>2.198577e+09</td>\n",
       "    </tr>\n",
       "    <tr>\n",
       "      <th>2017-12-27</th>\n",
       "      <td>15416.64</td>\n",
       "      <td>16514.59</td>\n",
       "      <td>14534.66</td>\n",
       "      <td>15757.02</td>\n",
       "      <td>1514332800</td>\n",
       "      <td>138705.28</td>\n",
       "      <td>2.162831e+09</td>\n",
       "    </tr>\n",
       "    <tr>\n",
       "      <th>2017-12-28</th>\n",
       "      <td>14398.70</td>\n",
       "      <td>15505.51</td>\n",
       "      <td>13466.07</td>\n",
       "      <td>15416.34</td>\n",
       "      <td>1514419200</td>\n",
       "      <td>170366.63</td>\n",
       "      <td>2.425913e+09</td>\n",
       "    </tr>\n",
       "    <tr>\n",
       "      <th>2017-12-29</th>\n",
       "      <td>14392.57</td>\n",
       "      <td>15109.81</td>\n",
       "      <td>13951.08</td>\n",
       "      <td>14398.45</td>\n",
       "      <td>1514505600</td>\n",
       "      <td>118874.63</td>\n",
       "      <td>1.733584e+09</td>\n",
       "    </tr>\n",
       "    <tr>\n",
       "      <th>2017-12-30</th>\n",
       "      <td>12531.52</td>\n",
       "      <td>14461.46</td>\n",
       "      <td>11962.09</td>\n",
       "      <td>14392.14</td>\n",
       "      <td>1514592000</td>\n",
       "      <td>182065.44</td>\n",
       "      <td>2.387311e+09</td>\n",
       "    </tr>\n",
       "    <tr>\n",
       "      <th>2017-12-31</th>\n",
       "      <td>13013.10</td>\n",
       "      <td>13364.03</td>\n",
       "      <td>12359.43</td>\n",
       "      <td>12532.38</td>\n",
       "      <td>1514678400</td>\n",
       "      <td>19815.34</td>\n",
       "      <td>2.584961e+08</td>\n",
       "    </tr>\n",
       "  </tbody>\n",
       "</table>\n",
       "</div>"
      ],
      "text/plain": [
       "               close      high       low      open        time  volumefrom  \\\n",
       "2017-12-21  15632.12  17301.83  14952.98  16461.09  1513814400   163735.02   \n",
       "2017-12-22  13664.97  15823.72  10875.71  15632.12  1513900800   466980.60   \n",
       "2017-12-23  14396.46  15493.23  13356.07  13664.97  1513987200   170169.39   \n",
       "2017-12-24  13789.95  14413.72  12166.45  14396.63  1514073600   182417.29   \n",
       "2017-12-25  13833.49  14467.43  13010.71  13789.95  1514160000   107475.98   \n",
       "2017-12-26  15756.56  16094.67  13748.49  13830.19  1514246400   143135.26   \n",
       "2017-12-27  15416.64  16514.59  14534.66  15757.02  1514332800   138705.28   \n",
       "2017-12-28  14398.70  15505.51  13466.07  15416.34  1514419200   170366.63   \n",
       "2017-12-29  14392.57  15109.81  13951.08  14398.45  1514505600   118874.63   \n",
       "2017-12-30  12531.52  14461.46  11962.09  14392.14  1514592000   182065.44   \n",
       "2017-12-31  13013.10  13364.03  12359.43  12532.38  1514678400    19815.34   \n",
       "\n",
       "                volumeto  \n",
       "2017-12-21  2.619295e+09  \n",
       "2017-12-22  6.245732e+09  \n",
       "2017-12-23  2.491903e+09  \n",
       "2017-12-24  2.428438e+09  \n",
       "2017-12-25  1.487888e+09  \n",
       "2017-12-26  2.198577e+09  \n",
       "2017-12-27  2.162831e+09  \n",
       "2017-12-28  2.425913e+09  \n",
       "2017-12-29  1.733584e+09  \n",
       "2017-12-30  2.387311e+09  \n",
       "2017-12-31  2.584961e+08  "
      ]
     },
     "execution_count": 21,
     "metadata": {},
     "output_type": "execute_result"
    }
   ],
   "source": [
    "daily_price_hist(\"BTC\", \"USD\", 10, 1)"
   ]
  },
  {
   "cell_type": "code",
   "execution_count": 48,
   "metadata": {
    "collapsed": false
   },
   "outputs": [
    {
     "data": {
      "text/plain": [
       "1508198400.0"
      ]
     },
     "execution_count": 48,
     "metadata": {},
     "output_type": "execute_result"
    },
    {
     "data": {
      "text/plain": [
       "datetime.datetime(2017, 10, 17, 1, 0)"
      ]
     },
     "execution_count": 48,
     "metadata": {},
     "output_type": "execute_result"
    }
   ],
   "source": [
    "start_date = Date(2017, 10, 17)\n",
    "start_date = (start_date - Date(1970, 1, 1)) / datetime.timedelta(seconds=1)\n",
    "start_date\n",
    "Date.fromtimestamp(start_date)"
   ]
  },
  {
   "cell_type": "code",
   "execution_count": 28,
   "metadata": {
    "collapsed": false
   },
   "outputs": [
    {
     "data": {
      "text/html": [
       "<div>\n",
       "<table border=\"1\" class=\"dataframe\">\n",
       "  <thead>\n",
       "    <tr style=\"text-align: right;\">\n",
       "      <th></th>\n",
       "      <th>close</th>\n",
       "      <th>high</th>\n",
       "      <th>low</th>\n",
       "      <th>open</th>\n",
       "      <th>time</th>\n",
       "      <th>volumefrom</th>\n",
       "      <th>volumeto</th>\n",
       "    </tr>\n",
       "  </thead>\n",
       "  <tbody>\n",
       "    <tr>\n",
       "      <th>2016-01-03</th>\n",
       "      <td>430.70</td>\n",
       "      <td>434.14</td>\n",
       "      <td>423.09</td>\n",
       "      <td>433.72</td>\n",
       "      <td>1451779200</td>\n",
       "      <td>54826.26</td>\n",
       "      <td>23490162.61</td>\n",
       "    </tr>\n",
       "    <tr>\n",
       "      <th>2016-01-04</th>\n",
       "      <td>433.32</td>\n",
       "      <td>435.26</td>\n",
       "      <td>428.60</td>\n",
       "      <td>430.70</td>\n",
       "      <td>1451865600</td>\n",
       "      <td>53007.87</td>\n",
       "      <td>22943968.22</td>\n",
       "    </tr>\n",
       "    <tr>\n",
       "      <th>2016-01-05</th>\n",
       "      <td>431.20</td>\n",
       "      <td>435.25</td>\n",
       "      <td>428.87</td>\n",
       "      <td>433.32</td>\n",
       "      <td>1451952000</td>\n",
       "      <td>45029.87</td>\n",
       "      <td>19499588.99</td>\n",
       "    </tr>\n",
       "    <tr>\n",
       "      <th>2016-01-06</th>\n",
       "      <td>430.82</td>\n",
       "      <td>432.11</td>\n",
       "      <td>425.00</td>\n",
       "      <td>431.20</td>\n",
       "      <td>1452038400</td>\n",
       "      <td>43432.03</td>\n",
       "      <td>18702334.67</td>\n",
       "    </tr>\n",
       "    <tr>\n",
       "      <th>2016-01-07</th>\n",
       "      <td>457.05</td>\n",
       "      <td>457.54</td>\n",
       "      <td>428.52</td>\n",
       "      <td>430.82</td>\n",
       "      <td>1452124800</td>\n",
       "      <td>130197.44</td>\n",
       "      <td>58253615.03</td>\n",
       "    </tr>\n",
       "    <tr>\n",
       "      <th>2016-01-08</th>\n",
       "      <td>452.87</td>\n",
       "      <td>462.92</td>\n",
       "      <td>446.51</td>\n",
       "      <td>457.05</td>\n",
       "      <td>1452211200</td>\n",
       "      <td>91304.61</td>\n",
       "      <td>41594025.32</td>\n",
       "    </tr>\n",
       "    <tr>\n",
       "      <th>2016-01-09</th>\n",
       "      <td>448.31</td>\n",
       "      <td>454.55</td>\n",
       "      <td>444.90</td>\n",
       "      <td>452.87</td>\n",
       "      <td>1452297600</td>\n",
       "      <td>39809.95</td>\n",
       "      <td>17967113.95</td>\n",
       "    </tr>\n",
       "    <tr>\n",
       "      <th>2016-01-10</th>\n",
       "      <td>446.19</td>\n",
       "      <td>448.88</td>\n",
       "      <td>438.62</td>\n",
       "      <td>448.31</td>\n",
       "      <td>1452384000</td>\n",
       "      <td>44457.28</td>\n",
       "      <td>19778456.68</td>\n",
       "    </tr>\n",
       "    <tr>\n",
       "      <th>2016-01-11</th>\n",
       "      <td>447.72</td>\n",
       "      <td>451.08</td>\n",
       "      <td>441.77</td>\n",
       "      <td>446.19</td>\n",
       "      <td>1452470400</td>\n",
       "      <td>56587.40</td>\n",
       "      <td>25358480.83</td>\n",
       "    </tr>\n",
       "    <tr>\n",
       "      <th>2016-01-12</th>\n",
       "      <td>445.04</td>\n",
       "      <td>448.41</td>\n",
       "      <td>443.14</td>\n",
       "      <td>447.72</td>\n",
       "      <td>1452556800</td>\n",
       "      <td>44585.93</td>\n",
       "      <td>19913400.66</td>\n",
       "    </tr>\n",
       "    <tr>\n",
       "      <th>2016-01-13</th>\n",
       "      <td>432.18</td>\n",
       "      <td>443.72</td>\n",
       "      <td>420.39</td>\n",
       "      <td>445.04</td>\n",
       "      <td>1452643200</td>\n",
       "      <td>92040.06</td>\n",
       "      <td>39525195.32</td>\n",
       "    </tr>\n",
       "  </tbody>\n",
       "</table>\n",
       "</div>"
      ],
      "text/plain": [
       "             close    high     low    open        time  volumefrom  \\\n",
       "2016-01-03  430.70  434.14  423.09  433.72  1451779200    54826.26   \n",
       "2016-01-04  433.32  435.26  428.60  430.70  1451865600    53007.87   \n",
       "2016-01-05  431.20  435.25  428.87  433.32  1451952000    45029.87   \n",
       "2016-01-06  430.82  432.11  425.00  431.20  1452038400    43432.03   \n",
       "2016-01-07  457.05  457.54  428.52  430.82  1452124800   130197.44   \n",
       "2016-01-08  452.87  462.92  446.51  457.05  1452211200    91304.61   \n",
       "2016-01-09  448.31  454.55  444.90  452.87  1452297600    39809.95   \n",
       "2016-01-10  446.19  448.88  438.62  448.31  1452384000    44457.28   \n",
       "2016-01-11  447.72  451.08  441.77  446.19  1452470400    56587.40   \n",
       "2016-01-12  445.04  448.41  443.14  447.72  1452556800    44585.93   \n",
       "2016-01-13  432.18  443.72  420.39  445.04  1452643200    92040.06   \n",
       "\n",
       "               volumeto  \n",
       "2016-01-03  23490162.61  \n",
       "2016-01-04  22943968.22  \n",
       "2016-01-05  19499588.99  \n",
       "2016-01-06  18702334.67  \n",
       "2016-01-07  58253615.03  \n",
       "2016-01-08  41594025.32  \n",
       "2016-01-09  17967113.95  \n",
       "2016-01-10  19778456.68  \n",
       "2016-01-11  25358480.83  \n",
       "2016-01-12  19913400.66  \n",
       "2016-01-13  39525195.32  "
      ]
     },
     "execution_count": 28,
     "metadata": {},
     "output_type": "execute_result"
    }
   ],
   "source": [
    "start_date = Date(2017, 10, 17)\n",
    "end_date = Date(2017, 11, 17)\n",
    "\n",
    "start_date = Date.fromtimestamp(1452680400)\n",
    "daily_price_hist(\"BTC\", \"USD\", 10, 1, toTs = 1452680400)"
   ]
  },
  {
   "cell_type": "code",
   "execution_count": null,
   "metadata": {
    "collapsed": true
   },
   "outputs": [],
   "source": []
  }
 ],
 "metadata": {
  "anaconda-cloud": {},
  "kernelspec": {
   "display_name": "Python [conda root]",
   "language": "python",
   "name": "conda-root-py"
  },
  "language_info": {
   "codemirror_mode": {
    "name": "ipython",
    "version": 3
   },
   "file_extension": ".py",
   "mimetype": "text/x-python",
   "name": "python",
   "nbconvert_exporter": "python",
   "pygments_lexer": "ipython3",
   "version": "3.5.2"
  }
 },
 "nbformat": 4,
 "nbformat_minor": 0
}
