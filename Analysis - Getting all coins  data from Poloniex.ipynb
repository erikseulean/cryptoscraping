{
 "cells": [
  {
   "cell_type": "code",
   "execution_count": 1,
   "metadata": {
    "collapsed": true
   },
   "outputs": [],
   "source": [
    "from IPython.core.interactiveshell import InteractiveShell\n",
    "InteractiveShell.ast_node_interactivity = \"last\""
   ]
  },
  {
   "cell_type": "code",
   "execution_count": 14,
   "metadata": {
    "collapsed": true
   },
   "outputs": [],
   "source": [
    "from IPython.core.interactiveshell import InteractiveShell\n",
    "InteractiveShell.ast_node_interactivity = \"all\"\n",
    "from datetime import datetime as Date\n",
    "from crypto.libs.marketcap import MarketCap\n",
    "from crypto.libs.price import Price\n",
    "from crypto.libs.coins import Coins\n",
    "from crypto.libs.scraping.refresh import run as MarketCapInit\n",
    "from crypto.libs import dateutils\n",
    "import pandas as pd"
   ]
  },
  {
   "cell_type": "code",
   "execution_count": 11,
   "metadata": {
    "collapsed": false
   },
   "outputs": [],
   "source": [
    "coins = Coins()\n",
    "price = Price()"
   ]
  },
  {
   "cell_type": "code",
   "execution_count": 16,
   "metadata": {
    "collapsed": false
   },
   "outputs": [],
   "source": [
    "poloniex_coins = coins.exchanges([\"Poloniex\"])\n",
    "data = []\n",
    "for coin in poloniex_coins:\n",
    "    ico_date = coins.coin_data(coin, \"ICO\")\n",
    "    coin_age = coins.coin_data(coin, \"AGE\")\n",
    "    coin_return = price.change(coin, \"USD\", ico_date, Date(2018, 1, 5))\n",
    "    one_h_change = price.change(coin, \"USD\", bar_size = 1, bar_type = \"h\")\n",
    "    thirdy_min_change = price.change(coin, \"USD\", bar_size = 30, bar_type = \"m\")\n",
    "    data.append({\"Coin\": coin, \n",
    "                 \"ICO\": ico_date.date(), \n",
    "                 \"Age\": coin_age, \n",
    "                 \"Total Return\": coin_return, \n",
    "                 \"Last hour change\": one_h_change, \n",
    "                 \"Last 30m change\": thirdy_min_change})\n",
    "    \n",
    "df = pd.DataFrame(data, columns=[\"Coin\", \"ICO\", \"Age\", \"Total Return\", \"Last hour change\", \"Last 30m change\"])"
   ]
  },
  {
   "cell_type": "code",
   "execution_count": 28,
   "metadata": {
    "collapsed": false
   },
   "outputs": [
    {
     "data": {
      "text/plain": [
       "2.491176470588235"
      ]
     },
     "execution_count": 28,
     "metadata": {},
     "output_type": "execute_result"
    }
   ],
   "source": [
    "df[\"Age\"].mean()"
   ]
  },
  {
   "cell_type": "code",
   "execution_count": null,
   "metadata": {
    "collapsed": false
   },
   "outputs": [],
   "source": []
  },
  {
   "cell_type": "code",
   "execution_count": null,
   "metadata": {
    "collapsed": true
   },
   "outputs": [],
   "source": []
  }
 ],
 "metadata": {
  "kernelspec": {
   "display_name": "Python [Root]",
   "language": "python",
   "name": "Python [Root]"
  },
  "language_info": {
   "codemirror_mode": {
    "name": "ipython",
    "version": 3
   },
   "file_extension": ".py",
   "mimetype": "text/x-python",
   "name": "python",
   "nbconvert_exporter": "python",
   "pygments_lexer": "ipython3",
   "version": "3.5.2"
  }
 },
 "nbformat": 4,
 "nbformat_minor": 0
}
